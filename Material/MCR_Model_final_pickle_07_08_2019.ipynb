{
 "cells": [
  {
   "cell_type": "code",
   "execution_count": 57,
   "metadata": {},
   "outputs": [],
   "source": [
    "import sys\n",
    "import os\n",
    "import time\n",
    "import csv\n",
    "import numpy as np\n",
    "import pandas as pd\n",
    "from pyhive import hive\n",
    "import pickle"
   ]
  },
  {
   "cell_type": "code",
   "execution_count": 58,
   "metadata": {},
   "outputs": [],
   "source": [
    "os.chdir(\"/home/hattri10/\")\n",
    "\n",
    "##load the necessary from disk\n",
    "\n",
    "############################### changed 1_28_2019 #######################\n",
    "\n",
    "#1.Trained Model\n",
    "\n",
    "\n",
    "filename='model_unlisted_inscope.sav'\n",
    "\n",
    "#########################################################################\n",
    "\n",
    "\n",
    "loaded_model = pickle.load(open(filename, 'rb'))\n",
    "\n",
    "#2.File Required\n",
    "MCR_Inscope_All_use=pd.read_pickle(\"./MCR_Inscope_All_use.pkl\")\n"
   ]
  },
  {
   "cell_type": "code",
   "execution_count": 95,
   "metadata": {},
   "outputs": [],
   "source": [
    "#### For transforming variables\n",
    "name1=['NEOPLASMS', 'NERVOUS', 'MUSCULO', 'INJURY', 'DIGESTIVE']\n",
    "name2=['TX', 'OK', 'IL', 'CA', 'AZ', 'WI', 'OH', 'DE']\n",
    "name3=['MISC DIAG THERAPEUTIC','OPER DIGESTIVE SYS']\n",
    "name4=['SPECIALIST','PHARMACY/MEDICAL SUPPLY HOUSE']\n",
    "name5=['FAMILY PRACTICE/CLINIC','FAMILY PRACTICE','SURGEON','ORTHOPEDIST','OB/GYN','OTOLARYNGOLOGIST','ANESTHESIOLOGIST','OH','MD']\n",
    "name6=['95999','81599','E1399','84999','64999','29999','99199','49999','76496','92700','A0999','43999','46999','27599']\n",
    "name7=['821904699', '330685754', '812462824', '263739826', '770701774', '821310149']\n",
    "\n",
    "################ changed 1_28_2019  ##################\n",
    " \n",
    "dummy_imp=['prov_hist_same_06_s',\n",
    " 'proc_cd_gal_bin_27599',\n",
    " 'proc_cd_gal_bin_29999',\n",
    " 'proc_cd_gal_bin_43999',\n",
    " 'proc_cd_gal_bin_46999',\n",
    " 'proc_cd_gal_bin_81599',\n",
    " 'proc_cd_gal_bin_92700',\n",
    " 'proc_cd_gal_bin_95999',\n",
    " 'proc_cd_gal_bin_A0999',\n",
    " 'proc_cd_gal_bin_E1399',\n",
    " 'proc_cd_gal_bin_others',\n",
    " 'prov_same_cpt_den_rate_bin_NoHistory_3',\n",
    " 'prov_same_cpt_den_rate_bin_[0-0.125]',\n",
    " 'prov_same_cpt_den_rate_bin_[0.125-1]',\n",
    " 'st_abbr_cd_bin_AZ',\n",
    " 'st_abbr_cd_bin_DE',\n",
    " 'st_abbr_cd_bin_OK',\n",
    " 'diag_cat_bin_INJURY',\n",
    " 'diag_cat_bin_MUSCULO',\n",
    " 'service_billed_dur_bin_(-1.0, 90.0]',\n",
    " 'den_flag_mcr']\n",
    "######################################################\n",
    "\n",
    "bin1=[-1.0, 90, 180, 1056.0]\n",
    "bin2=[0.0, 40, 60, 91.0]\n",
    "bin3=[0.0, 5, 37.0]"
   ]
  },
  {
   "cell_type": "code",
   "execution_count": 62,
   "metadata": {},
   "outputs": [
    {
     "name": "stdout",
     "output_type": "stream",
     "text": [
      "1562585352.1086416\n",
      "done\n"
     ]
    }
   ],
   "source": [
    "\n",
    "### read file for daily scoring from hive\n",
    "### Test out of sample\n",
    "conn = hive.connect(host='dbslp0500', port= 10002, auth='LDAP', username=\"hattri10\", password=\"Him<8349\")\n",
    "stat = \"\"\"set mapreduce.job.queuename= araadh_q1.ararest_sq1\"\"\"\n",
    "stat1=\"\"\"select * from mcr_eni_redev.test_Apr_may_2019\"\"\"\n",
    "stat1=stat1.replace(\"\\n\",\" \")\n",
    "stat1=stat1.replace('\\t',\" \")\n",
    "stat1=stat1.replace(\"   \",\" \")\n",
    "cur = conn.cursor()\n",
    "start=time.time()\n",
    "print(start)\n",
    "cur = conn.cursor()\n",
    "cur.execute(stat)\n",
    "cur.execute(stat1)\n",
    "MCR_Inscope= pd.DataFrame(cur.fetchall())\n",
    "MCR_Inscope.columns = ['key','clm_10','fst_srvc_dt','proc_cd_gal','npi','prov_tin','src_chrg_amt','bth_dt','st_abbr_cd','srvc_prov_catgy_cd','bil_recv_dt','proc_cat','proc_sub_cat','den_flag_mcr','prop_billed_exceed_med','cpt_variation_tagging','service_billed_dur','mem_age','diag_cat','prov_hist_same_03','prov_hist_same_03_prop','prov_hist_same_06','prov_hist_same_06_prop','prov_hist_same_09','prov_hist_same_09_prop','catgy_rol_up_1_desc','catgy_rol_up_2_desc','catgy_rol_up_3_desc','catgy_rol_up_4_desc','prov_catgy_desc','prov_spcl_catgy_desc','ahrq_proc_genl_catgy_desc','prov_spcl_catgy_cd']\n",
    "print(\"done\")"
   ]
  },
  {
   "cell_type": "code",
   "execution_count": 63,
   "metadata": {},
   "outputs": [
    {
     "name": "stdout",
     "output_type": "stream",
     "text": [
      "(7827, 33)\n"
     ]
    }
   ],
   "source": [
    "print(MCR_Inscope.shape)\n"
   ]
  },
  {
   "cell_type": "code",
   "execution_count": 64,
   "metadata": {},
   "outputs": [],
   "source": [
    "MCR_Inscope_oos=MCR_Inscope.copy()\n",
    "#MCR_Inscope_oos.to_csv(\"/mapr/projects/MCR_Threshold/Data/MCR_scoring_file_10_09-19_2018.csv\",index=False)"
   ]
  },
  {
   "cell_type": "code",
   "execution_count": 65,
   "metadata": {},
   "outputs": [
    {
     "data": {
      "text/plain": [
       "(7827, 33)"
      ]
     },
     "execution_count": 65,
     "metadata": {},
     "output_type": "execute_result"
    }
   ],
   "source": [
    "MCR_Inscope_oos.shape"
   ]
  },
  {
   "cell_type": "code",
   "execution_count": 66,
   "metadata": {},
   "outputs": [
    {
     "name": "stdout",
     "output_type": "stream",
     "text": [
      "(53604, 31)\n"
     ]
    }
   ],
   "source": [
    "print(MCR_Inscope_All_use.shape)\n"
   ]
  },
  {
   "cell_type": "code",
   "execution_count": 67,
   "metadata": {},
   "outputs": [],
   "source": [
    "## Concatenating train & test\n",
    "MCR_Inscope_All_use['check']='Development'\n",
    "MCR_Inscope_oos['check']='Out_of_sample'\n",
    "\n",
    "col=['check','clm_10','fst_srvc_dt','proc_cd_gal','prov_tin','src_chrg_amt','prov_spcl_catgy_desc','st_abbr_cd','srvc_prov_catgy_cd','bil_recv_dt','proc_cat','proc_sub_cat','den_flag_mcr','prop_billed_exceed_med','cpt_variation_tagging','service_billed_dur','mem_age','diag_cat','prov_hist_same_06','prov_hist_same_06_prop']\n",
    "MCR_Inscope_All_use=MCR_Inscope_All_use[col]\n",
    "MCR_Inscope_oos=MCR_Inscope_oos[col]\n",
    "\n",
    "\n",
    "frames = [MCR_Inscope_All_use, MCR_Inscope_oos]\n",
    "Final = pd.concat(frames)\n",
    "\n",
    "\n",
    "MCR_Inscope_All=Final.drop_duplicates().reset_index(drop=True)\n",
    "\n",
    "\n"
   ]
  },
  {
   "cell_type": "code",
   "execution_count": 68,
   "metadata": {},
   "outputs": [
    {
     "name": "stdout",
     "output_type": "stream",
     "text": [
      "(59535, 20)\n"
     ]
    }
   ],
   "source": [
    "print(MCR_Inscope_All.shape)"
   ]
  },
  {
   "cell_type": "code",
   "execution_count": 69,
   "metadata": {},
   "outputs": [
    {
     "name": "stdout",
     "output_type": "stream",
     "text": [
      "(7827, 33) (59535, 20)\n"
     ]
    },
    {
     "data": {
      "text/html": [
       "<div>\n",
       "<style scoped>\n",
       "    .dataframe tbody tr th:only-of-type {\n",
       "        vertical-align: middle;\n",
       "    }\n",
       "\n",
       "    .dataframe tbody tr th {\n",
       "        vertical-align: top;\n",
       "    }\n",
       "\n",
       "    .dataframe thead th {\n",
       "        text-align: right;\n",
       "    }\n",
       "</style>\n",
       "<table border=\"1\" class=\"dataframe\">\n",
       "  <thead>\n",
       "    <tr style=\"text-align: right;\">\n",
       "      <th></th>\n",
       "      <th>check</th>\n",
       "      <th>clm_10</th>\n",
       "      <th>fst_srvc_dt</th>\n",
       "      <th>proc_cd_gal</th>\n",
       "      <th>prov_tin</th>\n",
       "      <th>src_chrg_amt</th>\n",
       "      <th>prov_spcl_catgy_desc</th>\n",
       "      <th>st_abbr_cd</th>\n",
       "      <th>srvc_prov_catgy_cd</th>\n",
       "      <th>bil_recv_dt</th>\n",
       "      <th>proc_cat</th>\n",
       "      <th>proc_sub_cat</th>\n",
       "      <th>den_flag_mcr</th>\n",
       "      <th>prop_billed_exceed_med</th>\n",
       "      <th>cpt_variation_tagging</th>\n",
       "      <th>service_billed_dur</th>\n",
       "      <th>mem_age</th>\n",
       "      <th>diag_cat</th>\n",
       "      <th>prov_hist_same_06</th>\n",
       "      <th>prov_hist_same_06_prop</th>\n",
       "    </tr>\n",
       "  </thead>\n",
       "  <tbody>\n",
       "    <tr>\n",
       "      <th>0</th>\n",
       "      <td>Development</td>\n",
       "      <td>3328641134</td>\n",
       "      <td>2017-12-28 00:00:00</td>\n",
       "      <td>55899</td>\n",
       "      <td>620858347</td>\n",
       "      <td>4000.0</td>\n",
       "      <td>UROLOGIST</td>\n",
       "      <td>ME</td>\n",
       "      <td>0996</td>\n",
       "      <td>2018-01-02 00:00:00</td>\n",
       "      <td>Unlisted</td>\n",
       "      <td>surgical</td>\n",
       "      <td>0</td>\n",
       "      <td>1.000000</td>\n",
       "      <td>1</td>\n",
       "      <td>5</td>\n",
       "      <td>64.0</td>\n",
       "      <td>NEOPLASMS</td>\n",
       "      <td>0</td>\n",
       "      <td>0.0</td>\n",
       "    </tr>\n",
       "    <tr>\n",
       "      <th>1</th>\n",
       "      <td>Development</td>\n",
       "      <td>3328643764</td>\n",
       "      <td>2017-12-22 00:00:00</td>\n",
       "      <td>69799</td>\n",
       "      <td>391127163</td>\n",
       "      <td>4326.0</td>\n",
       "      <td>OTOLARYNGOLOGIST</td>\n",
       "      <td>ME</td>\n",
       "      <td>0110</td>\n",
       "      <td>2018-01-02 00:00:00</td>\n",
       "      <td>Unlisted</td>\n",
       "      <td>surgical</td>\n",
       "      <td>0</td>\n",
       "      <td>0.909091</td>\n",
       "      <td>1</td>\n",
       "      <td>11</td>\n",
       "      <td>34.0</td>\n",
       "      <td>NERVOUS</td>\n",
       "      <td>0</td>\n",
       "      <td>0.0</td>\n",
       "    </tr>\n",
       "  </tbody>\n",
       "</table>\n",
       "</div>"
      ],
      "text/plain": [
       "         check      clm_10          fst_srvc_dt proc_cd_gal   prov_tin  \\\n",
       "0  Development  3328641134  2017-12-28 00:00:00       55899  620858347   \n",
       "1  Development  3328643764  2017-12-22 00:00:00       69799  391127163   \n",
       "\n",
       "   src_chrg_amt prov_spcl_catgy_desc st_abbr_cd srvc_prov_catgy_cd  \\\n",
       "0        4000.0            UROLOGIST         ME               0996   \n",
       "1        4326.0     OTOLARYNGOLOGIST         ME               0110   \n",
       "\n",
       "           bil_recv_dt  proc_cat proc_sub_cat  den_flag_mcr  \\\n",
       "0  2018-01-02 00:00:00  Unlisted     surgical             0   \n",
       "1  2018-01-02 00:00:00  Unlisted     surgical             0   \n",
       "\n",
       "   prop_billed_exceed_med cpt_variation_tagging  service_billed_dur  mem_age  \\\n",
       "0                1.000000                     1                   5     64.0   \n",
       "1                0.909091                     1                  11     34.0   \n",
       "\n",
       "    diag_cat  prov_hist_same_06  prov_hist_same_06_prop  \n",
       "0  NEOPLASMS                  0                     0.0  \n",
       "1    NERVOUS                  0                     0.0  "
      ]
     },
     "execution_count": 69,
     "metadata": {},
     "output_type": "execute_result"
    }
   ],
   "source": [
    "MCR_Inscope_All.drop_duplicates(inplace=True)\n",
    "#MCR_Inscope_All.drop(['npi','bth_dt','812462824_tin_flag'], axis=1, inplace=True)\n",
    "MCR_Inscope_All.reset_index()\n",
    "print (MCR_Inscope.shape,MCR_Inscope_All.shape)\n",
    "\n",
    "MCR_Inscope_All.head(2)"
   ]
  },
  {
   "cell_type": "code",
   "execution_count": 70,
   "metadata": {},
   "outputs": [
    {
     "name": "stdout",
     "output_type": "stream",
     "text": [
      "(59535, 20)\n"
     ]
    }
   ],
   "source": [
    "# strip (whitespaces) all object dtypes\n",
    "df_obj = MCR_Inscope_All.select_dtypes(['object'])\n",
    "df_obj\n",
    "MCR_Inscope_All[df_obj.columns] = df_obj.apply(lambda x: x.str.strip()).replace('', np.nan)\n",
    "del [[df_obj]];df_obj = pd.DataFrame();\n",
    "print(MCR_Inscope_All.shape)"
   ]
  },
  {
   "cell_type": "code",
   "execution_count": 71,
   "metadata": {},
   "outputs": [],
   "source": [
    "#Dates {infer_datetime_format=True}\n",
    "#MCR_Inscope_All['fst_srvc_dt']=MCR_Inscope_All['fst_srvc_dt'].astype(str).str.strip()\n",
    "#MCR_Inscope_All['fst_srvc_dt']=pd.to_datetime(MCR_Inscope_All['fst_srvc_dt'], format = \"%Y-%m-%d\")\n",
    "#MCR_Inscope_All['lst_srvc_dt']=pd.to_datetime(MCR_Inscope_All['lst_srvc_dt'], format = \"%Y-%m-%d\")\n",
    "#MCR_Inscope_All['bil_recv_dt']=pd.to_datetime(MCR_Inscope_All['bil_recv_dt'], format = \"%Y-%m-%d\")\n",
    "MCR_Inscope_All['cpt_variation_tagging']=MCR_Inscope_All['cpt_variation_tagging'].astype(str)\n",
    "#MCR_Inscope_All['den_flag_mcr']=MCR_Inscope_All['den_flag_mcr'].astype(str)"
   ]
  },
  {
   "cell_type": "code",
   "execution_count": 72,
   "metadata": {},
   "outputs": [
    {
     "name": "stdout",
     "output_type": "stream",
     "text": [
      "(59535, 20)\n"
     ]
    }
   ],
   "source": [
    "#missing value imputation (Mode)\n",
    "cols_cat = ['st_abbr_cd','prov_spcl_catgy_desc','diag_cat']\n",
    "MCR_Inscope_All[cols_cat]=MCR_Inscope_All[cols_cat].fillna(MCR_Inscope_All_use.mode().iloc[0])\n",
    "#MCR_Inscope_All['prov_gndr']=MCR_Inscope_All['prov_gndr'].replace(\"U\",MCR_Inscope_All_use['prov_gndr'].mode().iloc[0])\n",
    "print(MCR_Inscope_All.shape)"
   ]
  },
  {
   "cell_type": "code",
   "execution_count": 73,
   "metadata": {},
   "outputs": [
    {
     "name": "stdout",
     "output_type": "stream",
     "text": [
      "(59535, 20)\n"
     ]
    }
   ],
   "source": [
    "#missing value imputation (median)\n",
    "#df.apply(lambda x: x.fillna(x.mean()),axis=0)\n",
    "cols_conti = ['service_billed_dur','mem_age','prop_billed_exceed_med']\n",
    "MCR_Inscope_All[cols_conti]=MCR_Inscope_All[cols_conti].fillna((MCR_Inscope_All_use[cols_conti].median()))\n",
    "print(MCR_Inscope_All.shape)"
   ]
  },
  {
   "cell_type": "code",
   "execution_count": 74,
   "metadata": {},
   "outputs": [
    {
     "name": "stdout",
     "output_type": "stream",
     "text": [
      "(59535, 20)\n"
     ]
    }
   ],
   "source": [
    "#Outlier Treatment\n",
    "MCR_Inscope_All[\"mem_age\"] = np.where(MCR_Inscope_All[\"mem_age\"] < 0,\n",
    "                                      MCR_Inscope_All_use['mem_age'].median(),\n",
    "                                      np.where(MCR_Inscope_All['mem_age'] == 0,\n",
    "                                               1,\n",
    "                                               np.where(MCR_Inscope_All['mem_age']> MCR_Inscope_All_use['mem_age'].max(),\n",
    "                                                        MCR_Inscope_All_use['mem_age'].max(),\n",
    "                                                        MCR_Inscope_All['mem_age'])))\n",
    "\n",
    "\n",
    "MCR_Inscope_All['service_billed_dur'] = np.where(MCR_Inscope_All['service_billed_dur'] < 0,\n",
    "                                                 MCR_Inscope_All_use['service_billed_dur'].median(),\n",
    "                                                 np.where(MCR_Inscope_All['service_billed_dur']>MCR_Inscope_All_use['service_billed_dur'].max(),\n",
    "                                                          MCR_Inscope_All_use['service_billed_dur'].max(),\n",
    "                                                          MCR_Inscope_All['service_billed_dur']\n",
    "                                                         ))###bucketing for service billed duration 90-180 , above 180 \n",
    "#q99=MCR_Inscope_All_use['provider_tenure'].quantile(0.995)\n",
    "#MCR_Inscope_All['provider_tenure'] = np.where(MCR_Inscope_All['provider_tenure'] < 0,MCR_Inscope_All_use['provider_tenure'].median(),np.where(MCR_Inscope_All['provider_tenure'] > q99,q99,MCR_Inscope_All['provider_tenure']))\n",
    "\n",
    "#q90_03=MCR_Inscope_All_use['prov_hist_same_03'].quantile(0.90)\n",
    "#MCR_Inscope_All['prov_hist_same_03'] = np.where(MCR_Inscope_All['prov_hist_same_03'] > q90_03, q90_03, MCR_Inscope_All['prov_hist_same_03'])\n",
    "\n",
    "q90_06=MCR_Inscope_All_use['prov_hist_same_06'].quantile(0.90)\n",
    "MCR_Inscope_All['prov_hist_same_06'] = np.where(MCR_Inscope_All['prov_hist_same_06'] > q90_06, q90_06, MCR_Inscope_All['prov_hist_same_06'])\n",
    "\n",
    "#q90_09=MCR_Inscope_All_use['prov_hist_same_09'].quantile(0.90)\n",
    "#MCR_Inscope_All['prov_hist_same_09'] = np.where(MCR_Inscope_All['prov_hist_same_09'] > q90_09, q90_09, MCR_Inscope_All['prov_hist_same_09'])                                        \n",
    "print(MCR_Inscope_All.shape)"
   ]
  },
  {
   "cell_type": "code",
   "execution_count": 75,
   "metadata": {},
   "outputs": [
    {
     "name": "stdout",
     "output_type": "stream",
     "text": [
      "['others' '29999' '64999' 'E1399' '27599' '81599' '43999' '95999' '46999'\n",
      " '84999' 'A0999' '99199' '49999' '76496' '92700']\n"
     ]
    }
   ],
   "source": [
    "# Variable Bucketization\n",
    "# a.Categorical variables\n",
    "\n",
    "## 1.Diagnosis code category\n",
    "\n",
    "\n",
    "MCR_Inscope_All['diag_cat_bin'] = MCR_Inscope_All.diag_cat.where(MCR_Inscope_All.diag_cat.isin(name1), 'others')\n",
    "#MCR_Inscope_All['diag_cat_bin'].unique()\n",
    "\n",
    "## 2.Provider State category\n",
    "\n",
    "MCR_Inscope_All['st_abbr_cd_bin'] = MCR_Inscope_All.st_abbr_cd.where(MCR_Inscope_All.st_abbr_cd.isin(name2), 'others')\n",
    "#MCR_Inscope_All['st_abbr_cd_bin'].unique()\n",
    "\n",
    "##3.CPT high level description\n",
    "\n",
    "#MCR_Inscope_All['ahrq_proc_genl_catgy_desc_bin'] = MCR_Inscope_All.ahrq_proc_genl_catgy_desc.where(MCR_Inscope_All.ahrq_proc_genl_catgy_desc.isin(name3), 'others')\n",
    "#MCR_Inscope_All['ahrq_proc_genl_catgy_desc_bin'].unique()\n",
    "\n",
    "##4.catgy_rol_up_2_desc servicing provider catgy code high level description\n",
    "\n",
    "#MCR_Inscope_All['catgy_rol_up_2_desc_bin'] = MCR_Inscope_All.catgy_rol_up_2_desc.where(MCR_Inscope_All.catgy_rol_up_2_desc.isin(name4), 'others')\n",
    "#MCR_Inscope_All['catgy_rol_up_2_desc_bin'].unique()\n",
    "\n",
    "##5.Speciality code high level description\n",
    "\n",
    "MCR_Inscope_All['prov_spcl_catgy_desc_bin'] = MCR_Inscope_All.prov_spcl_catgy_desc.where(MCR_Inscope_All.prov_spcl_catgy_desc.isin(name5), 'others')\n",
    "#MCR_Inscope_All['prov_spcl_catgy_desc_bin'].unique()\n",
    "\n",
    "##6 tin flag\n",
    "MCR_Inscope_All['tin_flag'] = MCR_Inscope_All.prov_tin.where(MCR_Inscope_All.prov_tin.isin(name7), 'others')\n",
    "\n",
    "##7 CPT grouping\n",
    "MCR_Inscope_All['proc_cd_gal_bin'] = MCR_Inscope_All.proc_cd_gal.where(MCR_Inscope_All.proc_cd_gal.isin(name6), 'others')\n",
    "print(MCR_Inscope_All['proc_cd_gal_bin'].unique())"
   ]
  },
  {
   "cell_type": "code",
   "execution_count": 76,
   "metadata": {},
   "outputs": [
    {
     "data": {
      "text/plain": [
       "(59535, 25)"
      ]
     },
     "execution_count": 76,
     "metadata": {},
     "output_type": "execute_result"
    }
   ],
   "source": [
    "MCR_Inscope_All.shape"
   ]
  },
  {
   "cell_type": "code",
   "execution_count": 77,
   "metadata": {},
   "outputs": [],
   "source": [
    "# b. Continous Variable\n",
    "\n",
    "## 1.Service Billed Duration\n",
    "\n",
    "\n",
    "MCR_Inscope_All['service_billed_dur_bin'] = pd.cut(MCR_Inscope_All['service_billed_dur'], bin1)\n",
    "\n",
    "## 2. Member Age\n",
    "\n",
    "\n",
    "MCR_Inscope_All['mem_age_bin'] = pd.cut(MCR_Inscope_All['mem_age'], bin2)\n",
    "\n",
    "\n",
    "## 3. Provider Tenure\n",
    "\n",
    "#bin3 = [MCR_Inscope_All['provider_tenure'].min()-1,5,MCR_Inscope_All['provider_tenure'].max()+1]\n",
    "#MCR_Inscope_All['provider_tenure_bin'] = pd.cut(MCR_Inscope_All['provider_tenure'], bin3)\n",
    "\n"
   ]
  },
  {
   "cell_type": "code",
   "execution_count": 78,
   "metadata": {},
   "outputs": [
    {
     "data": {
      "text/plain": [
       "(59535, 27)"
      ]
     },
     "execution_count": 78,
     "metadata": {},
     "output_type": "execute_result"
    }
   ],
   "source": [
    "MCR_Inscope_All.shape"
   ]
  },
  {
   "cell_type": "code",
   "execution_count": 79,
   "metadata": {},
   "outputs": [
    {
     "data": {
      "text/plain": [
       "array(['[0-0.125]', 'NoHistory_3', '[0.125-1]'], dtype=object)"
      ]
     },
     "execution_count": 79,
     "metadata": {},
     "output_type": "execute_result"
    }
   ],
   "source": [
    "MCR_Inscope_All['prov_hist_same_06_s']=(MCR_Inscope_All['prov_hist_same_06']-MCR_Inscope_All_use['prov_hist_same_06'].min())/(MCR_Inscope_All_use['prov_hist_same_06'].max()-MCR_Inscope_All_use['prov_hist_same_06'].min())\n",
    "\n",
    "\n",
    "MCR_Inscope_All['prov_same_cpt_den_rate_bin']=np.where(MCR_Inscope_All['prov_hist_same_06_prop'].isnull(), \"NoHistory_3\",\n",
    "                                             np.where(MCR_Inscope_All['prov_hist_same_06_prop']<0.125,\"[0-0.125]\",\n",
    "                                                      np.where(MCR_Inscope_All['prov_hist_same_06_prop']>=0.125,\"[0.125-1]\",\"Other\")))\n",
    "MCR_Inscope_All['prov_same_cpt_den_rate_bin'].unique()"
   ]
  },
  {
   "cell_type": "code",
   "execution_count": 80,
   "metadata": {},
   "outputs": [
    {
     "data": {
      "text/plain": [
       "(59535, 29)"
      ]
     },
     "execution_count": 80,
     "metadata": {},
     "output_type": "execute_result"
    }
   ],
   "source": [
    "MCR_Inscope_All.shape"
   ]
  },
  {
   "cell_type": "code",
   "execution_count": 81,
   "metadata": {},
   "outputs": [],
   "source": [
    "################ changed 1_28_2019  ##################\n",
    "\n",
    "dev=MCR_Inscope_All[['proc_cd_gal_bin','prov_same_cpt_den_rate_bin','st_abbr_cd_bin','den_flag_mcr','prov_hist_same_06_s','diag_cat_bin','service_billed_dur_bin']]\n",
    "\n",
    "######################################################"
   ]
  },
  {
   "cell_type": "code",
   "execution_count": 82,
   "metadata": {},
   "outputs": [
    {
     "data": {
      "text/plain": [
       "(59535, 7)"
      ]
     },
     "execution_count": 82,
     "metadata": {},
     "output_type": "execute_result"
    }
   ],
   "source": [
    "dev.shape"
   ]
  },
  {
   "cell_type": "code",
   "execution_count": 86,
   "metadata": {},
   "outputs": [
    {
     "data": {
      "text/plain": [
       "21"
      ]
     },
     "execution_count": 86,
     "metadata": {},
     "output_type": "execute_result"
    }
   ],
   "source": [
    "len(dummy_imp)"
   ]
  },
  {
   "cell_type": "code",
   "execution_count": 88,
   "metadata": {},
   "outputs": [
    {
     "name": "stderr",
     "output_type": "stream",
     "text": [
      "/app_2/jupyter/anaconda3/lib/python3.6/site-packages/sklearn/cross_validation.py:41: DeprecationWarning: This module was deprecated in version 0.18 in favor of the model_selection module into which all the refactored classes and functions are moved. Also note that the interface of the new CV iterators are different from that of this module. This module will be removed in 0.20.\n",
      "  \"This module will be removed in 0.20.\", DeprecationWarning)\n"
     ]
    }
   ],
   "source": [
    "\n",
    "from sklearn.linear_model import LogisticRegression\n",
    "from sklearn.preprocessing import MinMaxScaler\n",
    "from sklearn.cross_validation import train_test_split\n",
    "from sklearn.metrics import confusion_matrix , classification_report, accuracy_score, roc_curve, roc_auc_score\n",
    "from sklearn.ensemble import RandomForestClassifier\n",
    "from sklearn.model_selection import RandomizedSearchCV, cross_val_score\n"
   ]
  },
  {
   "cell_type": "code",
   "execution_count": 96,
   "metadata": {},
   "outputs": [
    {
     "name": "stdout",
     "output_type": "stream",
     "text": [
      "(59535, 20)\n",
      "(59535,)\n",
      "              precision    recall  f1-score   support\n",
      "\n",
      "           0       0.90      0.76      0.82      5487\n",
      "           1       0.56      0.78      0.65      2152\n",
      "\n",
      "   micro avg       0.76      0.76      0.76      7639\n",
      "   macro avg       0.73      0.77      0.74      7639\n",
      "weighted avg       0.80      0.76      0.77      7639\n",
      "\n",
      "[[4159 1328]\n",
      " [ 478 1674]]\n"
     ]
    },
    {
     "data": {
      "text/plain": [
       "pandas.core.frame.DataFrame"
      ]
     },
     "execution_count": 96,
     "metadata": {},
     "output_type": "execute_result"
    }
   ],
   "source": [
    "\n",
    "df_d=pd.get_dummies(dev)\n",
    "df_d=df_d[dummy_imp]\n",
    "X=df_d.drop('den_flag_mcr',axis=1)\n",
    "\n",
    "print( X.shape)\n",
    "y=df_d['den_flag_mcr'].values\n",
    "print (y.shape)\n",
    "\n",
    "\n",
    "\n",
    "### Separating out of sample\n",
    "y_pred = loaded_model.predict(X)\n",
    "y_prob=loaded_model.predict_proba(X)[:,1]\n",
    "MCR_Inscope_All['pred']=y_pred\n",
    "MCR_Inscope_All['pred_proba']=y_prob\n",
    "data_oos=MCR_Inscope_All[MCR_Inscope_All['check']=='Out_of_sample']\n",
    "\n",
    "##out of sample results\n",
    "\n",
    "print(classification_report(data_oos['den_flag_mcr'],data_oos['pred']))\n",
    "print(confusion_matrix(data_oos['den_flag_mcr'],data_oos['pred']))\n",
    "\n",
    "type(data_oos)"
   ]
  },
  {
   "cell_type": "code",
   "execution_count": 97,
   "metadata": {},
   "outputs": [
    {
     "name": "stdout",
     "output_type": "stream",
     "text": [
      "              precision    recall  f1-score   support\n",
      "\n",
      "           0       0.94      0.44      0.59      5487\n",
      "           1       0.39      0.93      0.55      2152\n",
      "\n",
      "   micro avg       0.57      0.57      0.57      7639\n",
      "   macro avg       0.67      0.68      0.57      7639\n",
      "weighted avg       0.79      0.57      0.58      7639\n",
      "\n",
      "[[2387 3100]\n",
      " [ 154 1998]]\n"
     ]
    },
    {
     "name": "stderr",
     "output_type": "stream",
     "text": [
      "/app_2/jupyter/anaconda3/lib/python3.6/site-packages/ipykernel_launcher.py:30: SettingWithCopyWarning: \n",
      "A value is trying to be set on a copy of a slice from a DataFrame.\n",
      "Try using .loc[row_indexer,col_indexer] = value instead\n",
      "\n",
      "See the caveats in the documentation: http://pandas.pydata.org/pandas-docs/stable/indexing.html#indexing-view-versus-copy\n"
     ]
    }
   ],
   "source": [
    "## applying threshold\n",
    "\n",
    "## Applying threshold\n",
    "\n",
    "from sklearn.linear_model import LogisticRegression\n",
    "from sklearn.preprocessing import MinMaxScaler\n",
    "from sklearn.cross_validation import train_test_split\n",
    "from sklearn.metrics import confusion_matrix , classification_report, accuracy_score, roc_curve, roc_auc_score\n",
    "from sklearn.ensemble import RandomForestClassifier\n",
    "from sklearn.model_selection import RandomizedSearchCV, cross_val_score\n",
    "\n",
    "################# changed 1_28_2019 ####################\n",
    "\n",
    "threshold=0.3\n",
    "\n",
    "########################################################\n",
    "\n",
    "c=[]\n",
    "\n",
    "for i in data_oos['pred_proba']:\n",
    "    \n",
    "    if i > threshold:\n",
    "        d=[1]\n",
    "        c.extend(d)\n",
    "      \n",
    "    else:\n",
    "        d=[0]\n",
    "        c.extend(d)\n",
    "        \n",
    "data_oos['pred1']=c\n",
    "\n",
    "\n",
    "# Print confusion Matrix\n",
    "from sklearn.metrics import confusion_matrix\n",
    "\n",
    "print(classification_report(data_oos['den_flag_mcr'], data_oos['pred1']))\n",
    "print(confusion_matrix(data_oos['den_flag_mcr'], data_oos['pred1']))\n"
   ]
  },
  {
   "cell_type": "code",
   "execution_count": 39,
   "metadata": {},
   "outputs": [
    {
     "name": "stdout",
     "output_type": "stream",
     "text": [
      "          icn score       date\n",
      "0  7615493110   Low 2019-02-22\n",
      "1  7619922078  High 2019-02-22\n",
      "2  7623685186  High 2019-02-22\n",
      "3  7623818422  High 2019-02-22\n",
      "4  7623819390  High 2019-02-22\n"
     ]
    }
   ],
   "source": [
    "#data_oos.head()\n",
    "data_oos.to_csv(\"/mapr/projects/MCR_Threshold/Data/dry_run_others.csv\",index=False)\n",
    "\n",
    "data_clm=data_oos.groupby('clm_10', as_index=False).agg({\"pred1\": \"max\"})\n",
    "c=[]\n",
    "for i in data_clm['pred1']:\n",
    "    if i ==1:\n",
    "        d=['High']\n",
    "        c.extend(d)\n",
    "    else:\n",
    "        d=['Low']\n",
    "        c.extend(d)    \n",
    "\n",
    "data_clm['status']=c\n",
    "\n",
    "data_new_sc=data_clm.copy()\n",
    "data_new_sc['icn']=data_new_sc['clm_10']\n",
    "data_new_sc['score']=data_new_sc['status']\n",
    "data_new_sc['date']= pd.to_datetime(pd.datetime.now().date(), format = \"%Y-%m-%d\") \n",
    "data_new_sc=data_new_sc.drop(['clm_10','pred1','status'], axis=1)\n",
    "print data_new_sc.head()\n",
    "data_new_sc.to_csv(\"/mapr/projects/MCR_Threshold/Data/dry_run_others_claim_status.csv\",index=False)\n"
   ]
  },
  {
   "cell_type": "code",
   "execution_count": 40,
   "metadata": {
    "collapsed": true
   },
   "outputs": [],
   "source": [
    "### Need to ingest data_new_sc (newly scored outcome) in hive directly under the name eni_test.newly_scored"
   ]
  },
  {
   "cell_type": "code",
   "execution_count": null,
   "metadata": {},
   "outputs": [],
   "source": []
  }
 ],
 "metadata": {
  "kernelspec": {
   "display_name": "Python 3",
   "language": "python",
   "name": "python3"
  },
  "language_info": {
   "codemirror_mode": {
    "name": "ipython",
    "version": 3
   },
   "file_extension": ".py",
   "mimetype": "text/x-python",
   "name": "python",
   "nbconvert_exporter": "python",
   "pygments_lexer": "ipython3",
   "version": "3.6.6"
  }
 },
 "nbformat": 4,
 "nbformat_minor": 2
}

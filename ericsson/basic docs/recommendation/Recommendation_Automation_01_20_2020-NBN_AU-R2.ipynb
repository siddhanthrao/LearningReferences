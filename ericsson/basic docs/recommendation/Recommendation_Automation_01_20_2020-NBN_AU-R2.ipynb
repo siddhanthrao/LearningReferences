{
 "cells": [
  {
   "cell_type": "code",
   "execution_count": 1,
   "metadata": {
    "extensions": {
     "jupyter_dashboards": {
      "version": 1,
      "views": {
       "grid_default": {},
       "report_default": {
        "hidden": true
       }
      }
     }
    }
   },
   "outputs": [],
   "source": [
    "# Importing libraries\n",
    "\n",
    "import pandas as pd\n",
    "import pyodbc\n",
    "import matplotlib.pyplot as plt\n",
    "import seaborn as sns\n",
    "import datetime\n",
    "from datetime import date\n",
    "import warnings\n",
    "warnings.filterwarnings(\"ignore\")\n",
    "import os\n",
    "from selenium import webdriver as driver\n",
    "from selenium.webdriver.chrome.options import Options \n",
    "import win32com.client as win32\n",
    "import plotly.express as px\n",
    "from IPython.core.display import display, HTML\n",
    "import os\n",
    "os.getcwd()\n",
    "os.chdir('C:\\\\Users\\\\ejariah\\\\Downloads\\\\recommendation')"
   ]
  },
  {
   "cell_type": "code",
   "execution_count": 2,
   "metadata": {
    "extensions": {
     "jupyter_dashboards": {
      "version": 1,
      "views": {
       "grid_default": {},
       "report_default": {
        "hidden": true
       }
      }
     }
    }
   },
   "outputs": [],
   "source": [
    "database = \"FE_NBN-AU\"\n",
    "establish_connection='Driver={SQL Server};' 'Server=172.29.31.23,63678;' 'Database=FE_NBN-AU;' 'Trusted_Connection=yes;'\n",
    "\n",
    "\n",
    "##mailing file mapping\n",
    "df = pd.read_csv('C:/Users/ejariah/Downloads/recommendation/India DS.csv')\n",
    "customer_name = df[df['Cognos Customer folder name'] == database]['Customer'].unique()\n",
    "mail_to_ds=list(df[df['Cognos Customer folder name'] == database]['Email id'].unique())\n",
    "\n",
    "#link_to_alarm=df[df['Cognos Customer folder name'] == database]['Cognos Link'].astype('category')\n",
    "\n",
    "\n",
    "# Function to have headings\n",
    "\n",
    "def heading():\n",
    "    Year=date.today().year\n",
    "    weekNumber = date.today().isocalendar()[1]\n",
    "    print((customer_name[0] + ': Analysis for ' + str(Year) + '- WK' + str(weekNumber-1)).center(125), \"\\n\")\n",
    "#     print('Analysis Summary:')\n",
    "\n",
    "    # Function to fetch top 5 Alarms\n",
    "\n",
    "# Function to fetch top 5 Alarms\n",
    "\n",
    "def alarms_week_wise():\n",
    "    try:\n",
    "        conn = pyodbc.connect(establish_connection)\n",
    "\n",
    "        #cursor = conn.cursor()\n",
    "        #cursor.execute('SELECT top 10 * FROM dbo.Alarm_Trend_Test')\n",
    "        SQL_Query = \"Select Firstoccurenceweek, sum(Record_Count) as Alarms from dbo.Standard_derivation_Test where (FirstOccurrenceDate >= cast(DATEADD(day,-44,DATEADD(day,-(((DATEPART(dw,getdate()+1)+5) % 7 )),GETDATE())) as date)) and (FirstOccurrenceDate <= cast(DATEADD(day,-(((DATEPART(dw,getdate()+1)+5) % 7 )),GETDATE()) as date)) group by Firstoccurenceweek order by Firstoccurenceweek\"\n",
    "        #SQL_Query_Tellabs_highest_temp_site = 'Select [NE NAME] , TLDevTemp as Tellabs_Temp from dbo.DM_MWTLheatdata where TLDevTemp IN (Select max(TLDEVTEMP) as max_temp from dbo.DM_MWTLheatdata  where Week IN (Select TOP 1 Week from dbo.DM_MWTLheatdata order by Date)) and Week IN (Select TOP 1 Week from dbo.DM_MWTLheatdata order by Date)'\n",
    "\n",
    "        #for row in cursor:\n",
    "        #    print(row)\n",
    "\n",
    "        df = pd.read_sql(SQL_Query,conn)\n",
    "        #print (df)\n",
    "        conn.close()\n",
    "\n",
    "\n",
    "        return df\n",
    "              \n",
    "    except:\n",
    "        print('')\n",
    "        \n",
    "def TT_created_week_wise():\n",
    "    try:\n",
    "              \n",
    "        conn = pyodbc.connect(establish_connection)\n",
    "        SQL_Query = \"Select [Creation Week], sum([TT Count]) as Tickets from [dbo].[Standard Derivation TT Agg] where ([Creation Date] >= cast(DATEADD(day,-44,DATEADD(day,-(((DATEPART(dw,getdate()+1)+5) % 7 )),GETDATE())) as date)) and ([Creation Date] <= cast(DATEADD(day,-(((DATEPART(dw,getdate()+1)+5) % 7 )),GETDATE()) as date)) group by [Creation Week] order by [Creation Week]\" \n",
    "\n",
    "        df = pd.read_sql(SQL_Query,conn)\n",
    "        #print (df)\n",
    "        conn.close()\n",
    "\n",
    "\n",
    "        return df\n",
    "              \n",
    "              \n",
    "    except:\n",
    "              \n",
    "        print('')\n",
    "        \n",
    "\n",
    "\n",
    "## TT trend Closing date\n",
    "\n",
    "def TT_closed_week_wise():\n",
    "              \n",
    "    try:\n",
    "        conn = pyodbc.connect(establish_connection)\n",
    "        SQL_Query = \"Select [Closing Week], sum([TT Count]) as Tickets from [dbo].[Standard Derivation TT Agg] where ([Closing Date] >= cast(DATEADD(day,-44,DATEADD(day,-(((DATEPART(dw,getdate()+1)+5) % 7 )),GETDATE())) as date)) and ([Closing Date] <= cast(DATEADD(day,-(((DATEPART(dw,getdate()+1)+5) % 7 )),GETDATE()) as date)) group by [Closing Week] order by [Closing Week]\" \n",
    "\n",
    "        df = pd.read_sql(SQL_Query,conn)\n",
    "        #print (df)\n",
    "        conn.close()\n",
    "\n",
    "\n",
    "        return df\n",
    "    \n",
    "    except:\n",
    "        print('')\n",
    "\n",
    "def fetch_MTTR():\n",
    "              \n",
    "    try:\n",
    "        \n",
    "        conn = pyodbc.connect(establish_connection)\n",
    "\n",
    "\n",
    "        SQL_Query1 = \"Select [Closing Week], (sum([Time To Respond (minutes)])/sum([TT Count])) as MTTR1_Agg_min, (sum([Time To Restore (hours)])/sum([TT Count])) as MTTR2_Agg_hr, (sum([Time To Resolve (hours)])/sum([TT Count]))  as MTTR3_Agg_hr from [dbo].[Standard Derivation TT Agg] where ([Closing Date] >= cast(DATEADD(day,-44,DATEADD(day,-(((DATEPART(dw,getdate()+1)+5) % 7 )),GETDATE())) as date)) and ([Closing Date] <= cast(DATEADD(day,-(((DATEPART(dw,getdate()+1)+5) % 7 )),GETDATE()) as date)) group by [Closing Week] order by [Closing Week]\"\n",
    "        df1 = pd.read_sql(SQL_Query1,conn)\n",
    "\n",
    "        SQL_Query2 = \"Select [Closing Week], (sum([Time To Respond (minutes)])/sum([TT Count])) as Critical_MTTR1_min, (sum([Time To Restore (hours)])/sum([TT Count])) as Critical_MTTR2_hr, (sum([Time To Resolve (hours)])/sum([TT Count]))  as Critical_MTTR3_hr from [dbo].[Standard Derivation TT Agg] where ([Closing Date] >= cast(DATEADD(day,-44,DATEADD(day,-(((DATEPART(dw,getdate()+1)+5) % 7 )),GETDATE())) as date)) and ([Closing Date] <= cast(DATEADD(day,-(((DATEPART(dw,getdate()+1)+5) % 7 )),GETDATE()) as date)) and Priority='Critical' group by [Closing Week] order by [Closing Week]\"\n",
    "        df2 = pd.read_sql(SQL_Query2,conn)\n",
    "\n",
    "        SQL_Query3 = \"Select [Closing Week], (sum([Time To Respond (minutes)])/sum([TT Count])) as Major_MTTR1_min, (sum([Time To Restore (hours)])/sum([TT Count])) as Major_MTTR2_hr, (sum([Time To Resolve (hours)])/sum([TT Count]))  as Major_MTTR3_hr from [dbo].[Standard Derivation TT Agg] where ([Closing Date] >= cast(DATEADD(day,-44,DATEADD(day,-(((DATEPART(dw,getdate()+1)+5) % 7 )),GETDATE())) as date)) and ([Closing Date] <= cast(DATEADD(day,-(((DATEPART(dw,getdate()+1)+5) % 7 )),GETDATE()) as date)) and Priority='Major' group by [Closing Week] order by [Closing Week]\"\n",
    "        df3 = pd.read_sql(SQL_Query3,conn)\n",
    "\n",
    "        df=pd.merge(pd.merge(df1,df2,on='Closing Week',how='left'),df3,on='Closing Week',how='left')\n",
    "        df= df.round(2)\n",
    "\n",
    "\n",
    "        #print (df)\n",
    "        conn.close()\n",
    "\n",
    "        return df\n",
    "    \n",
    "    except:\n",
    "        print('')\n"
   ]
  },
  {
   "cell_type": "code",
   "execution_count": 3,
   "metadata": {
    "extensions": {
     "jupyter_dashboards": {
      "version": 1,
      "views": {
       "grid_default": {},
       "report_default": {
        "hidden": true
       }
      }
     }
    }
   },
   "outputs": [],
   "source": [
    "# Required data making first\n",
    "# Alarm trend week wise\n",
    "alarms_week_data=alarms_week_wise()\n",
    "# TT Trend created\n",
    "TT_created_week_wise_data=TT_created_week_wise()\n",
    "# TT Trend closed\n",
    "TT_closed_week_wise_data=TT_closed_week_wise()\n",
    "\n",
    "fetch_mttr = fetch_MTTR()\n"
   ]
  },
  {
   "cell_type": "code",
   "execution_count": 4,
   "metadata": {},
   "outputs": [],
   "source": [
    "TT_created_week_wise_data['week'] = TT_created_week_wise_data['Creation Week'].str.split('-').str[1].astype(int)\n",
    "TT_closed_week_wise_data['week'] = TT_closed_week_wise_data['Closing Week'].str.split('-').str[1].astype(int)\n",
    "alarms_week_data['week'] = alarms_week_data.Firstoccurenceweek.str.split('-').str[1].astype(int)\n",
    "fetch_mttr['week'] = fetch_mttr['Closing Week'].str.split('-').str[1].astype(int)\n",
    "fetch_mttr=fetch_mttr.drop(['Closing Week'],axis=1)\n",
    "df1 = pd.merge(pd.merge(pd.merge(alarms_week_data.iloc[-6:],TT_created_week_wise_data,on='week',how='left'),TT_closed_week_wise_data, how = 'left', on = 'week'),fetch_mttr,on='week',how='left')\n",
    "df1 = df1.drop(['week','Creation Week', 'Closing Week'], axis = 1)\n",
    "df1 = df1.rename(columns={\"Firstoccurenceweek\": \"Week\"})\n",
    "df1 = df1.rename(columns={\"Tickets_x\": \"Created_TT\"})\n",
    "df1 = df1.rename(columns={\"Tickets_y\":\"Closed_TT\"})"
   ]
  },
  {
   "cell_type": "code",
   "execution_count": 5,
   "metadata": {
    "extensions": {
     "jupyter_dashboards": {
      "version": 1,
      "views": {
       "grid_default": {},
       "report_default": {
        "hidden": false
       }
      }
     }
    }
   },
   "outputs": [
    {
     "data": {
      "text/html": [
       "<a href=http://172.29.31.7:9310/bi/?perspective=dashboard&pathRef=.public_folders%2FFE_NBN-AU%2FStandard%2FDashboard%2FM1_DB_NBN-AU_alarm_analysis&action=view&mode=dashboard>Click here for Alarm Cognos Dashboard View</a>"
      ],
      "text/plain": [
       "<IPython.core.display.HTML object>"
      ]
     },
     "metadata": {},
     "output_type": "display_data"
    },
    {
     "data": {
      "text/html": [
       "<a href=http://172.29.31.7:9310/bi/?perspective=dashboard&pathRef=.public_folders%2FFE_NBN-AU%2FStandard%2FDashboard%2FM2_DB_NBN-AU_TT_alaysis&action=view&mode=dashboard>Click here for TT Cognos Dashboard View</a>"
      ],
      "text/plain": [
       "<IPython.core.display.HTML object>"
      ]
     },
     "metadata": {},
     "output_type": "display_data"
    }
   ],
   "source": [
    "try:\n",
    "    link_to_alarm_data=df[df['Cognos Customer folder name'] == database]\n",
    "    link_to_alarm_list=list(link_to_alarm_data['Cognos Link'].unique())\n",
    "    link_to_alarm_list_link=link_to_alarm_list[0]\n",
    "    display(HTML(\"<a href=\"+link_to_alarm_list_link+\">Click here for Alarm Cognos Dashboard View</a>\")) \n",
    "except:\n",
    "    print(\"Alarm data not available\")\n",
    "try:\n",
    "    link_to_tt_data=df[df['Cognos Customer folder name'] == database]\n",
    "    link_to_tt_list=list(link_to_tt_data['Cognos Link 1'].unique())\n",
    "    link_to_tt_list_link=link_to_tt_list[0]\n",
    "    display(HTML(\"<a href=\"+link_to_tt_list_link+\">Click here for TT Cognos Dashboard View</a>\")) \n",
    "except:\n",
    "    print(\"TT data not available\")"
   ]
  },
  {
   "cell_type": "code",
   "execution_count": 6,
   "metadata": {
    "extensions": {
     "jupyter_dashboards": {
      "version": 1,
      "views": {
       "grid_default": {},
       "report_default": {
        "hidden": true
       }
      }
     }
    }
   },
   "outputs": [],
   "source": [
    "%%capture\n",
    "##Saving Analysis as html\n",
    "\n",
    "!jupyter nbconvert --to html Recommendation_Automation_01_20_2020-NBN_AU-R1.ipynb >>log.txt\n",
    "\n",
    "#setting html page\n",
    "chrome_options = Options()  \n",
    "chrome_options.add_argument(\"--headless\")\n",
    "browser = driver.Chrome('C:\\\\Users\\\\ejariah\\\\Downloads\\\\recommendation\\\\chromedriver.exe', options= chrome_options)\n",
    "browser.get('C:\\\\Users\\\\ejariah\\\\Downloads\\\\recommendation\\\\Recommendation_Automation_01_20_2020-NBN_AU-R1.html')\n",
    "element = browser.find_element_by_xpath('//*[@id=\"notebook-container\"]/div[1]')\n",
    "browser.execute_script(\"\"\"\n",
    "var element = arguments[0];\n",
    "element.parentNode.removeChild(element);\n",
    "\"\"\", element)\n",
    "with open('C:\\\\Users\\\\ejariah\\\\Downloads\\\\recommendation\\\\recommendation_automation_edited.html', 'w') as f:\n",
    "    f.write(browser.page_source)\n",
    "browser.close() "
   ]
  },
  {
   "cell_type": "code",
   "execution_count": 7,
   "metadata": {},
   "outputs": [],
   "source": [
    "outlook = win32.Dispatch('outlook.application')\n",
    "mail = outlook.CreateItem(0)\n",
    "mail.To = \"megha.bolia@ericsson.com;tapas.das@ericsson.com\"\n",
    "Year=date.today().year\n",
    "weekNumber = date.today().isocalendar()[1]\n",
    "sub=customer_name + ' Analysis for '+str(Year)+'- WK'+str(weekNumber-1)\n",
    "string=sub[0]\n",
    "mail.Subject =string\n",
    "mail.Body = '<p>'\n",
    "attachment = mail.Attachments.Add(\"C:\\\\Users\\\\ejariah\\\\Downloads\\\\recommendation\\\\alarm_domain_trend.jpg\")\n",
    "attachment1 = mail.Attachments.Add(\"C:\\\\Users\\\\ejariah\\\\Downloads\\\\recommendation\\\\TT_Created_trend.jpg\")\n",
    "attachment2 = mail.Attachments.Add(\"C:\\\\Users\\\\ejariah\\\\Downloads\\\\recommendation\\\\TT_Closed_trend.jpg\")\n",
    "attachment.PropertyAccessor.SetProperty(\"http://schemas.microsoft.com/mapi/proptag/0x3712001F\", \"MyId1\")\n",
    "attachment1.PropertyAccessor.SetProperty(\"http://schemas.microsoft.com/mapi/proptag/0x3712001F\", \"MyId2\")\n",
    "attachment2.PropertyAccessor.SetProperty(\"http://schemas.microsoft.com/mapi/proptag/0x3712001F\", \"MyId3\")             \n",
    "mail.HTMLBody = \"<html><body><p>Hi all,</p> Please find \" + str(customer_name[0]) +  \" analysis summary for \" +str(Year) + \"- WK\" + str(weekNumber-1) + \"<p><a href ='\"+ link_to_alarm_list_link + \"'> Click here for Alarm Cognos Dashboard View </a></p><p><a href ='\"+ link_to_tt_list_link + \"'> Click here for Trouble Ticket Cognos Dashboard View </a></p><p>For detailed analysis refer to html attached</p><p>\" + df1.to_html(index=False) + \"<img src=\"\"cid:MyId1\"\"><img src=\"\"cid:MyId2\"\"><img src=\"\"cid:MyId3\"\"><p> Regards, </p> <p> DS Team </p></body></html>\"\n",
    "attachment  = \"C:\\\\Users\\\\ejariah\\\\Downloads\\\\recommendation\\\\recommendation_automation_edited.html\"\n",
    "mail.Attachments.Add(attachment)\n",
    "mail.Send()\n"
   ]
  },
  {
   "cell_type": "code",
   "execution_count": null,
   "metadata": {},
   "outputs": [],
   "source": []
  }
 ],
 "metadata": {
  "extensions": {
   "jupyter_dashboards": {
    "activeView": "report_default",
    "version": 1,
    "views": {
     "grid_default": {
      "cellMargin": 10,
      "defaultCellHeight": 20,
      "maxColumns": 12,
      "name": "grid",
      "type": "grid"
     },
     "report_default": {
      "name": "report",
      "type": "report"
     }
    }
   }
  },
  "kernelspec": {
   "display_name": "Python 3",
   "language": "python",
   "name": "python3"
  },
  "language_info": {
   "codemirror_mode": {
    "name": "ipython",
    "version": 3
   },
   "file_extension": ".py",
   "mimetype": "text/x-python",
   "name": "python",
   "nbconvert_exporter": "python",
   "pygments_lexer": "ipython3",
   "version": "3.7.3"
  }
 },
 "nbformat": 4,
 "nbformat_minor": 2
}

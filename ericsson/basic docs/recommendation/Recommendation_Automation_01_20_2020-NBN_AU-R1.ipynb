{
 "cells": [
  {
   "cell_type": "code",
   "execution_count": 1,
   "metadata": {
    "extensions": {
     "jupyter_dashboards": {
      "version": 1,
      "views": {
       "grid_default": {},
       "report_default": {
        "hidden": false
       }
      }
     }
    }
   },
   "outputs": [
    {
     "data": {
      "text/html": [
       "<script>jQuery(function() {if (jQuery(\"body.notebook_app\").length == 0) { jQuery(\".input_area\").toggle(); jQuery(\".prompt\").toggle();}});</script>"
      ]
     },
     "metadata": {},
     "output_type": "display_data"
    },
    {
     "data": {
      "text/html": [
       "<button onclick=\"jQuery('.input_area').toggle(); jQuery('.prompt').toggle();\">Toggle code</button>"
      ]
     },
     "metadata": {},
     "output_type": "display_data"
    }
   ],
   "source": [
    "from IPython.display import display\n",
    "from IPython.display import HTML\n",
    "import IPython.core.display as di # Example: di.display_html('<h3>%s:</h3>' % str, raw=True)\n",
    "\n",
    "# This line will hide code by default when the notebook is exported as HTML\n",
    "di.display_html('<script>jQuery(function() {if (jQuery(\"body.notebook_app\").length == 0) { jQuery(\".input_area\").toggle(); jQuery(\".prompt\").toggle();}});</script>', raw=True)\n",
    "\n",
    "# This line will add a button to toggle visibility of code blocks, for use with the HTML export version\n",
    "di.display_html('''<button onclick=\"jQuery('.input_area').toggle(); jQuery('.prompt').toggle();\">Toggle code</button>''', raw=True)\n"
   ]
  },
  {
   "cell_type": "code",
   "execution_count": 2,
   "metadata": {
    "extensions": {
     "jupyter_dashboards": {
      "version": 1,
      "views": {
       "grid_default": {},
       "report_default": {
        "hidden": true
       }
      }
     }
    }
   },
   "outputs": [],
   "source": [
    "# Importing libraries\n",
    "\n",
    "import pandas as pd\n",
    "import pyodbc\n",
    "import matplotlib.pyplot as plt\n",
    "import seaborn as sns\n",
    "import datetime\n",
    "from datetime import date\n",
    "import warnings\n",
    "warnings.filterwarnings(\"ignore\")\n",
    "import os\n",
    "from selenium import webdriver as driver\n",
    "from selenium.webdriver.chrome.options import Options \n",
    "import win32com.client as win32\n",
    "import plotly.express as px\n",
    "from IPython.core.display import display, HTML\n",
    "import os\n",
    "os.getcwd()\n",
    "os.chdir('C:\\\\Users\\\\eatthim\\\\Downloads\\\\recommendation')"
   ]
  },
  {
   "cell_type": "code",
   "execution_count": 3,
   "metadata": {
    "extensions": {
     "jupyter_dashboards": {
      "version": 1,
      "views": {
       "grid_default": {},
       "report_default": {
        "hidden": true
       }
      }
     }
    }
   },
   "outputs": [
    {
     "ename": "FileNotFoundError",
     "evalue": "[Errno 2] File b'C:/User/eatthim/Downloads/recommendation/India DS.csv' does not exist: b'C:/User/eatthim/Downloads/recommendation/India DS.csv'",
     "output_type": "error",
     "traceback": [
      "\u001b[1;31m---------------------------------------------------------------------------\u001b[0m",
      "\u001b[1;31mFileNotFoundError\u001b[0m                         Traceback (most recent call last)",
      "\u001b[1;32m<ipython-input-3-97376d466846>\u001b[0m in \u001b[0;36m<module>\u001b[1;34m\u001b[0m\n\u001b[0;32m      4\u001b[0m \u001b[1;33m\u001b[0m\u001b[0m\n\u001b[0;32m      5\u001b[0m \u001b[1;31m##mailing file mapping\u001b[0m\u001b[1;33m\u001b[0m\u001b[1;33m\u001b[0m\u001b[1;33m\u001b[0m\u001b[0m\n\u001b[1;32m----> 6\u001b[1;33m \u001b[0mdf\u001b[0m \u001b[1;33m=\u001b[0m \u001b[0mpd\u001b[0m\u001b[1;33m.\u001b[0m\u001b[0mread_csv\u001b[0m\u001b[1;33m(\u001b[0m\u001b[1;34m'C:/User/eatthim/Downloads/recommendation/India DS.csv'\u001b[0m\u001b[1;33m)\u001b[0m\u001b[1;33m\u001b[0m\u001b[1;33m\u001b[0m\u001b[0m\n\u001b[0m\u001b[0;32m      7\u001b[0m \u001b[0mcustomer_name\u001b[0m \u001b[1;33m=\u001b[0m \u001b[0mdf\u001b[0m\u001b[1;33m[\u001b[0m\u001b[0mdf\u001b[0m\u001b[1;33m[\u001b[0m\u001b[1;34m'Cognos Customer folder name'\u001b[0m\u001b[1;33m]\u001b[0m \u001b[1;33m==\u001b[0m \u001b[0mdatabase\u001b[0m\u001b[1;33m]\u001b[0m\u001b[1;33m[\u001b[0m\u001b[1;34m'Customer'\u001b[0m\u001b[1;33m]\u001b[0m\u001b[1;33m.\u001b[0m\u001b[0munique\u001b[0m\u001b[1;33m(\u001b[0m\u001b[1;33m)\u001b[0m\u001b[1;33m\u001b[0m\u001b[1;33m\u001b[0m\u001b[0m\n\u001b[0;32m      8\u001b[0m \u001b[0mmail_to_ds\u001b[0m\u001b[1;33m=\u001b[0m\u001b[0mlist\u001b[0m\u001b[1;33m(\u001b[0m\u001b[0mdf\u001b[0m\u001b[1;33m[\u001b[0m\u001b[0mdf\u001b[0m\u001b[1;33m[\u001b[0m\u001b[1;34m'Cognos Customer folder name'\u001b[0m\u001b[1;33m]\u001b[0m \u001b[1;33m==\u001b[0m \u001b[0mdatabase\u001b[0m\u001b[1;33m]\u001b[0m\u001b[1;33m[\u001b[0m\u001b[1;34m'Email id'\u001b[0m\u001b[1;33m]\u001b[0m\u001b[1;33m.\u001b[0m\u001b[0munique\u001b[0m\u001b[1;33m(\u001b[0m\u001b[1;33m)\u001b[0m\u001b[1;33m)\u001b[0m\u001b[1;33m\u001b[0m\u001b[1;33m\u001b[0m\u001b[0m\n",
      "\u001b[1;32m~\\AppData\\Local\\Continuum\\anaconda3\\lib\\site-packages\\pandas\\io\\parsers.py\u001b[0m in \u001b[0;36mparser_f\u001b[1;34m(filepath_or_buffer, sep, delimiter, header, names, index_col, usecols, squeeze, prefix, mangle_dupe_cols, dtype, engine, converters, true_values, false_values, skipinitialspace, skiprows, skipfooter, nrows, na_values, keep_default_na, na_filter, verbose, skip_blank_lines, parse_dates, infer_datetime_format, keep_date_col, date_parser, dayfirst, iterator, chunksize, compression, thousands, decimal, lineterminator, quotechar, quoting, doublequote, escapechar, comment, encoding, dialect, tupleize_cols, error_bad_lines, warn_bad_lines, delim_whitespace, low_memory, memory_map, float_precision)\u001b[0m\n\u001b[0;32m    700\u001b[0m                     skip_blank_lines=skip_blank_lines)\n\u001b[0;32m    701\u001b[0m \u001b[1;33m\u001b[0m\u001b[0m\n\u001b[1;32m--> 702\u001b[1;33m         \u001b[1;32mreturn\u001b[0m \u001b[0m_read\u001b[0m\u001b[1;33m(\u001b[0m\u001b[0mfilepath_or_buffer\u001b[0m\u001b[1;33m,\u001b[0m \u001b[0mkwds\u001b[0m\u001b[1;33m)\u001b[0m\u001b[1;33m\u001b[0m\u001b[1;33m\u001b[0m\u001b[0m\n\u001b[0m\u001b[0;32m    703\u001b[0m \u001b[1;33m\u001b[0m\u001b[0m\n\u001b[0;32m    704\u001b[0m     \u001b[0mparser_f\u001b[0m\u001b[1;33m.\u001b[0m\u001b[0m__name__\u001b[0m \u001b[1;33m=\u001b[0m \u001b[0mname\u001b[0m\u001b[1;33m\u001b[0m\u001b[1;33m\u001b[0m\u001b[0m\n",
      "\u001b[1;32m~\\AppData\\Local\\Continuum\\anaconda3\\lib\\site-packages\\pandas\\io\\parsers.py\u001b[0m in \u001b[0;36m_read\u001b[1;34m(filepath_or_buffer, kwds)\u001b[0m\n\u001b[0;32m    427\u001b[0m \u001b[1;33m\u001b[0m\u001b[0m\n\u001b[0;32m    428\u001b[0m     \u001b[1;31m# Create the parser.\u001b[0m\u001b[1;33m\u001b[0m\u001b[1;33m\u001b[0m\u001b[1;33m\u001b[0m\u001b[0m\n\u001b[1;32m--> 429\u001b[1;33m     \u001b[0mparser\u001b[0m \u001b[1;33m=\u001b[0m \u001b[0mTextFileReader\u001b[0m\u001b[1;33m(\u001b[0m\u001b[0mfilepath_or_buffer\u001b[0m\u001b[1;33m,\u001b[0m \u001b[1;33m**\u001b[0m\u001b[0mkwds\u001b[0m\u001b[1;33m)\u001b[0m\u001b[1;33m\u001b[0m\u001b[1;33m\u001b[0m\u001b[0m\n\u001b[0m\u001b[0;32m    430\u001b[0m \u001b[1;33m\u001b[0m\u001b[0m\n\u001b[0;32m    431\u001b[0m     \u001b[1;32mif\u001b[0m \u001b[0mchunksize\u001b[0m \u001b[1;32mor\u001b[0m \u001b[0miterator\u001b[0m\u001b[1;33m:\u001b[0m\u001b[1;33m\u001b[0m\u001b[1;33m\u001b[0m\u001b[0m\n",
      "\u001b[1;32m~\\AppData\\Local\\Continuum\\anaconda3\\lib\\site-packages\\pandas\\io\\parsers.py\u001b[0m in \u001b[0;36m__init__\u001b[1;34m(self, f, engine, **kwds)\u001b[0m\n\u001b[0;32m    893\u001b[0m             \u001b[0mself\u001b[0m\u001b[1;33m.\u001b[0m\u001b[0moptions\u001b[0m\u001b[1;33m[\u001b[0m\u001b[1;34m'has_index_names'\u001b[0m\u001b[1;33m]\u001b[0m \u001b[1;33m=\u001b[0m \u001b[0mkwds\u001b[0m\u001b[1;33m[\u001b[0m\u001b[1;34m'has_index_names'\u001b[0m\u001b[1;33m]\u001b[0m\u001b[1;33m\u001b[0m\u001b[1;33m\u001b[0m\u001b[0m\n\u001b[0;32m    894\u001b[0m \u001b[1;33m\u001b[0m\u001b[0m\n\u001b[1;32m--> 895\u001b[1;33m         \u001b[0mself\u001b[0m\u001b[1;33m.\u001b[0m\u001b[0m_make_engine\u001b[0m\u001b[1;33m(\u001b[0m\u001b[0mself\u001b[0m\u001b[1;33m.\u001b[0m\u001b[0mengine\u001b[0m\u001b[1;33m)\u001b[0m\u001b[1;33m\u001b[0m\u001b[1;33m\u001b[0m\u001b[0m\n\u001b[0m\u001b[0;32m    896\u001b[0m \u001b[1;33m\u001b[0m\u001b[0m\n\u001b[0;32m    897\u001b[0m     \u001b[1;32mdef\u001b[0m \u001b[0mclose\u001b[0m\u001b[1;33m(\u001b[0m\u001b[0mself\u001b[0m\u001b[1;33m)\u001b[0m\u001b[1;33m:\u001b[0m\u001b[1;33m\u001b[0m\u001b[1;33m\u001b[0m\u001b[0m\n",
      "\u001b[1;32m~\\AppData\\Local\\Continuum\\anaconda3\\lib\\site-packages\\pandas\\io\\parsers.py\u001b[0m in \u001b[0;36m_make_engine\u001b[1;34m(self, engine)\u001b[0m\n\u001b[0;32m   1120\u001b[0m     \u001b[1;32mdef\u001b[0m \u001b[0m_make_engine\u001b[0m\u001b[1;33m(\u001b[0m\u001b[0mself\u001b[0m\u001b[1;33m,\u001b[0m \u001b[0mengine\u001b[0m\u001b[1;33m=\u001b[0m\u001b[1;34m'c'\u001b[0m\u001b[1;33m)\u001b[0m\u001b[1;33m:\u001b[0m\u001b[1;33m\u001b[0m\u001b[1;33m\u001b[0m\u001b[0m\n\u001b[0;32m   1121\u001b[0m         \u001b[1;32mif\u001b[0m \u001b[0mengine\u001b[0m \u001b[1;33m==\u001b[0m \u001b[1;34m'c'\u001b[0m\u001b[1;33m:\u001b[0m\u001b[1;33m\u001b[0m\u001b[1;33m\u001b[0m\u001b[0m\n\u001b[1;32m-> 1122\u001b[1;33m             \u001b[0mself\u001b[0m\u001b[1;33m.\u001b[0m\u001b[0m_engine\u001b[0m \u001b[1;33m=\u001b[0m \u001b[0mCParserWrapper\u001b[0m\u001b[1;33m(\u001b[0m\u001b[0mself\u001b[0m\u001b[1;33m.\u001b[0m\u001b[0mf\u001b[0m\u001b[1;33m,\u001b[0m \u001b[1;33m**\u001b[0m\u001b[0mself\u001b[0m\u001b[1;33m.\u001b[0m\u001b[0moptions\u001b[0m\u001b[1;33m)\u001b[0m\u001b[1;33m\u001b[0m\u001b[1;33m\u001b[0m\u001b[0m\n\u001b[0m\u001b[0;32m   1123\u001b[0m         \u001b[1;32melse\u001b[0m\u001b[1;33m:\u001b[0m\u001b[1;33m\u001b[0m\u001b[1;33m\u001b[0m\u001b[0m\n\u001b[0;32m   1124\u001b[0m             \u001b[1;32mif\u001b[0m \u001b[0mengine\u001b[0m \u001b[1;33m==\u001b[0m \u001b[1;34m'python'\u001b[0m\u001b[1;33m:\u001b[0m\u001b[1;33m\u001b[0m\u001b[1;33m\u001b[0m\u001b[0m\n",
      "\u001b[1;32m~\\AppData\\Local\\Continuum\\anaconda3\\lib\\site-packages\\pandas\\io\\parsers.py\u001b[0m in \u001b[0;36m__init__\u001b[1;34m(self, src, **kwds)\u001b[0m\n\u001b[0;32m   1851\u001b[0m         \u001b[0mkwds\u001b[0m\u001b[1;33m[\u001b[0m\u001b[1;34m'usecols'\u001b[0m\u001b[1;33m]\u001b[0m \u001b[1;33m=\u001b[0m \u001b[0mself\u001b[0m\u001b[1;33m.\u001b[0m\u001b[0musecols\u001b[0m\u001b[1;33m\u001b[0m\u001b[1;33m\u001b[0m\u001b[0m\n\u001b[0;32m   1852\u001b[0m \u001b[1;33m\u001b[0m\u001b[0m\n\u001b[1;32m-> 1853\u001b[1;33m         \u001b[0mself\u001b[0m\u001b[1;33m.\u001b[0m\u001b[0m_reader\u001b[0m \u001b[1;33m=\u001b[0m \u001b[0mparsers\u001b[0m\u001b[1;33m.\u001b[0m\u001b[0mTextReader\u001b[0m\u001b[1;33m(\u001b[0m\u001b[0msrc\u001b[0m\u001b[1;33m,\u001b[0m \u001b[1;33m**\u001b[0m\u001b[0mkwds\u001b[0m\u001b[1;33m)\u001b[0m\u001b[1;33m\u001b[0m\u001b[1;33m\u001b[0m\u001b[0m\n\u001b[0m\u001b[0;32m   1854\u001b[0m         \u001b[0mself\u001b[0m\u001b[1;33m.\u001b[0m\u001b[0munnamed_cols\u001b[0m \u001b[1;33m=\u001b[0m \u001b[0mself\u001b[0m\u001b[1;33m.\u001b[0m\u001b[0m_reader\u001b[0m\u001b[1;33m.\u001b[0m\u001b[0munnamed_cols\u001b[0m\u001b[1;33m\u001b[0m\u001b[1;33m\u001b[0m\u001b[0m\n\u001b[0;32m   1855\u001b[0m \u001b[1;33m\u001b[0m\u001b[0m\n",
      "\u001b[1;32mpandas/_libs/parsers.pyx\u001b[0m in \u001b[0;36mpandas._libs.parsers.TextReader.__cinit__\u001b[1;34m()\u001b[0m\n",
      "\u001b[1;32mpandas/_libs/parsers.pyx\u001b[0m in \u001b[0;36mpandas._libs.parsers.TextReader._setup_parser_source\u001b[1;34m()\u001b[0m\n",
      "\u001b[1;31mFileNotFoundError\u001b[0m: [Errno 2] File b'C:/User/eatthim/Downloads/recommendation/India DS.csv' does not exist: b'C:/User/eatthim/Downloads/recommendation/India DS.csv'"
     ]
    }
   ],
   "source": [
    "database = \"FE_NBN-AU\"\n",
    "establish_connection='Driver={SQL Server};' 'Server=172.29.31.23,63678;' 'Database=FE_NBN-AU;' 'Trusted_Connection=yes;'\n",
    "\n",
    "\n",
    "##mailing file mapping\n",
    "df = pd.read_csv('C:/User/eatthim/Downloads/recommendation/India DS.csv')\n",
    "customer_name = df[df['Cognos Customer folder name'] == database]['Customer'].unique()\n",
    "mail_to_ds=list(df[df['Cognos Customer folder name'] == database]['Email id'].unique())\n",
    "\n",
    "#link_to_alarm=df[df['Cognos Customer folder name'] == database]['Cognos Link'].astype('category')\n",
    "\n",
    "\n",
    "# Function to have headings\n",
    "\n",
    "def heading():\n",
    "    Year=date.today().year\n",
    "    weekNumber = date.today().isocalendar()[1]\n",
    "    print((customer_name[0] + ': Analysis for ' + str(Year) + '- WK' + str(weekNumber-1)).center(125), \"\\n\")\n",
    "#     print('Analysis Summary:')\n",
    "\n",
    "    # Function to fetch top 5 Alarms\n",
    "\n",
    "# Function to fetch top 5 Alarms\n",
    "\n",
    "def fetch_top_alarms():\n",
    "    try:\n",
    "        conn = pyodbc.connect(establish_connection)\n",
    "\n",
    "        #cursor = conn.cursor()\n",
    "        #cursor.execute('SELECT top 10 * FROM dbo.Alarm_Trend_Test')\n",
    "        SQL_Query = \"Select X733SPECIFICPROB, sum(Record_Count) as Alarms from dbo.Standard_derivation_Test where (cast(FirstOccurrenceDate as date) >= cast(DATEADD(day,-6,DATEADD(day,-(((DATEPART(dw,getdate()+1)+5) % 7 )),GETDATE())) as date)) and (cast(FirstOccurrenceDate as date) <= cast(DATEADD(day,-(((DATEPART(dw,getdate()+1)+5) % 7 )),GETDATE()) as date)) group by X733SPECIFICPROB order by Alarms Desc\"\n",
    "        #SQL_Query_Tellabs_highest_temp_site = 'Select [NE NAME] , TLDevTemp as Tellabs_Temp from dbo.DM_MWTLheatdata where TLDevTemp IN (Select max(TLDEVTEMP) as max_temp from dbo.DM_MWTLheatdata  where Week IN (Select TOP 1 Week from dbo.DM_MWTLheatdata order by Date)) and Week IN (Select TOP 1 Week from dbo.DM_MWTLheatdata order by Date)'\n",
    "\n",
    "        #for row in cursor:\n",
    "        #    print(row)\n",
    "\n",
    "        df = pd.read_sql(SQL_Query,conn)\n",
    "        #print (df)\n",
    "        conn.close()\n",
    "\n",
    "        #Top 5 alarms per Domain\n",
    "        df[\"Percnt_contri\"]=round((df.Alarms/df.Alarms.sum())*100)\n",
    "        df[\"cum_sum\"] = df.Alarms.cumsum()\n",
    "        df[\"cum_per\"] = 100*df.cum_sum/df.Alarms.sum()\n",
    "\n",
    "\n",
    "        top_alarms = df[:5]\n",
    "\n",
    "\n",
    "        return top_alarms\n",
    "    except:\n",
    "        print('Alarm Data Not Present')\n",
    "\n",
    "\n",
    "#Summary of top 5 alarms\n",
    "\n",
    "\n",
    "def top_5_alarm_summary():\n",
    "    try:\n",
    "        dd=topalarms.copy()\n",
    "        print('Alarm Analysis:')\n",
    "    #     print('Top 5 Alarms')\n",
    "    #     for i in range(5):\n",
    "    #         print(str(i+1)+\" \"+str(topalarms.X733SPECIFICPROB[i])+\" [\"+str(topalarms.Percnt_contri[i])+'%]')\n",
    "        #print('\\nTop 5 Alarms contribute to '+str(round(topalarms['cum_per'].max()))+'% of the total alarm population')\n",
    "\n",
    "    except:\n",
    "        print('')\n",
    "        \n",
    "              \n",
    "              \n",
    "#def top_5_alarm_summary_2():\n",
    "    #for i in range(5):\n",
    "        #return(str(i+1)+\" \"+str(topalarms.X733SPECIFICPROB[i])+\" [\"+str(topalarms.Percnt_contri[i])+'%]')\n",
    "       \n",
    "#Top 5 alarms Charts\n",
    "\n",
    "def top_5_alarms_chart():\n",
    "    try:\n",
    "        dd=topalarms.copy()\n",
    "        print('Top 5 Alarms Alarm Count')\n",
    "\n",
    "\n",
    "        plt.figure(figsize=(16, 6))\n",
    "        splot = sns.barplot(x=\"X733SPECIFICPROB\", y=\"Alarms\", data=topalarms,label = 'small');\n",
    "        splot.tick_params(labelsize=7.5)\n",
    "        plt.title('Top Alarms')\n",
    "        for p in splot.patches:\n",
    "            splot.annotate(format(p.get_height(), '.2f'),\n",
    "                           (p.get_x() + p.get_width() / 2.,\n",
    "                            p.get_height()), ha = 'center',\n",
    "                           va = 'center', xytext = (0, 10),\n",
    "                           textcoords = 'offset points');\n",
    "    except:\n",
    "        print('')\n",
    "        \n",
    "            \n",
    "\n",
    "\n",
    "\n",
    "# Top NODEs alarm wise\n",
    "\n",
    "def fetch_alarm_wise_top_NODEs(alarms):\n",
    "    try:\n",
    "\n",
    "        conn = pyodbc.connect(establish_connection)\n",
    "\n",
    "        data_for_all_alarms=pd.DataFrame()\n",
    "\n",
    "        for alarm in alarms:\n",
    "\n",
    "            #cursor = conn.cursor()\n",
    "            #cursor.execute('SELECT top 10 * FROM dbo.Alarm_Trend_Test')\n",
    "            SQL_Query_lastweekdata = \"Select NODE, sum(Record_Count) as Alarms from dbo.Standard_derivation_Test where (X733SPECIFICPROB = '\" + alarm + \"') and (cast(FirstOccurrenceDate as date) >= cast(DATEADD(day,-6,DATEADD(day,-(((DATEPART(dw,getdate()+1)+5) % 7 )),GETDATE())) as date)) and (cast(FirstOccurrenceDate as date) <= cast(DATEADD(day,-(((DATEPART(dw,getdate()+1)+5) % 7 )),GETDATE()) as date)) group by NODE order by Alarms Desc\"\n",
    "            #SQL_Query_Tellabs_highest_temp_site = 'Select [NE NAME] , TLDevTemp as Tellabs_Temp from dbo.DM_MWTLheatdata where TLDevTemp IN (Select max(TLDEVTEMP) as max_temp from dbo.DM_MWTLheatdata  where Week IN (Select TOP 1 Week from dbo.DM_MWTLheatdata order by Date)) and Week IN (Select TOP 1 Week from dbo.DM_MWTLheatdata order by Date)'\n",
    "\n",
    "            #for row in cursor:\n",
    "            #    print(row)\n",
    "\n",
    "            df = pd.read_sql(SQL_Query_lastweekdata,conn)\n",
    "            #print (df)\n",
    "            #conn.close()\n",
    "\n",
    "            #Top 5 NODEs with greatest alarms\n",
    "            global top_alarms_with_NODEs\n",
    "            top_alarms_with_NODEs= df[:5]\n",
    "            top_alarms_with_NODEs['Alarm']=alarm\n",
    "\n",
    "\n",
    "            data_for_all_alarms=pd.concat([data_for_all_alarms,top_alarms_with_NODEs])\n",
    "\n",
    "\n",
    "    #consolidation     \n",
    "        data_for_all_alarms=data_for_all_alarms[['Alarm','NODE','Alarms']]\n",
    "\n",
    "\n",
    "\n",
    "\n",
    "        return data_for_all_alarms\n",
    "    except:\n",
    "        print('')\n",
    "        \n",
    "        \n",
    "\n",
    "\n",
    "# Function to summarise top NODEs alarm wise\n",
    "# Function to summarise top NODEs alarm wise\n",
    "\n",
    "# Function to summarise top NODEs alarm wise\n",
    "\n",
    "def top_NODEs_alarm_wise_summary():\n",
    "    try:\n",
    "        dd=topalarms.copy()\n",
    "              \n",
    "        print('Below are the top alarms appeared in last week')\n",
    "\n",
    "        alarm_list=list(output_alarm_wise_NODEs.Alarm.unique())\n",
    "        for i in alarm_list :\n",
    "            print(str(alarm_list.index(i)+1) +'. Alarm-'+i)\n",
    "            print('\\tTop contributing NODEs:'.ljust(40))\n",
    "            df=output_alarm_wise_NODEs[output_alarm_wise_NODEs['Alarm']==i]\n",
    "\n",
    "\n",
    "            for j in list(df.NODE.unique()):\n",
    "                print(('\\t'+j+'['+str(int(df[df.NODE==j]['Alarms'].values))+']').ljust(40))\n",
    "\n",
    "    except:\n",
    "        print('')\n",
    "        \n",
    "# Function to plot top NODEs alarm wise\n",
    "\n",
    "def top_NODEs_alarm_wise_chart():\n",
    "    try:\n",
    "        dd=topalarms.copy()\n",
    "        print('Alarm Count of Top NODEs falling in Top 5 Alarms')\n",
    "        plt.figure(figsize=(15, 7))\n",
    "        splot = sns.barplot(x=\"Alarm\", y=\"Alarms\", hue=\"NODE\", data=output_alarm_wise_NODEs,);\n",
    "        splot.tick_params(labelsize=7.5)\n",
    "    except:\n",
    "        print('')\n",
    "        \n",
    "\n",
    "\n",
    "# fUNCTION TO FIND TOP NODES\n",
    "\n",
    "def fetch_high_alarm_NODEs():\n",
    "    try:\n",
    "        conn = pyodbc.connect(establish_connection)\n",
    "\n",
    "        #cursor = conn.cursor()\n",
    "        #cursor.execute('SELECT top 10 * FROM dbo.Alarm_Trend_Test')\n",
    "        SQL_Query_lastweekdata = \"Select NODE, sum(Record_Count) as Alarms from dbo.Standard_derivation_Test where (cast(FirstOccurrenceDate as date) >= cast(DATEADD(day,-6,DATEADD(day,-(((DATEPART(dw,getdate()+1)+5) % 7 )),GETDATE())) as date)) and (cast(FirstOccurrenceDate as date) <= cast(DATEADD(day,-(((DATEPART(dw,getdate()+1)+5) % 7 )),GETDATE()) as date)) group by NODE order by Alarms Desc\"\n",
    "        #SQL_Query_Tellabs_highest_temp_site = 'Select [NE NAME] , TLDevTemp as Tellabs_Temp from dbo.DM_MWTLheatdata where TLDevTemp IN (Select max(TLDEVTEMP) as max_temp from dbo.DM_MWTLheatdata  where Week IN (Select TOP 1 Week from dbo.DM_MWTLheatdata order by Date)) and Week IN (Select TOP 1 Week from dbo.DM_MWTLheatdata order by Date)'\n",
    "\n",
    "        #for row in cursor:\n",
    "        #    print(row)\n",
    "\n",
    "        df = pd.read_sql(SQL_Query_lastweekdata,conn)\n",
    "        #print (df)\n",
    "        conn.close()\n",
    "        df[\"Percnt_contri\"]=round((df.Alarms/df.Alarms.sum())*100)\n",
    "        df[\"cum_sum\"] = df.Alarms.cumsum()\n",
    "        df[\"cum_per\"] = 100*df.cum_sum/df.Alarms.sum()\n",
    "\n",
    "        #Top 5 NODEs with greatest alarms\n",
    "        global top_NODEs_with_alarms\n",
    "        df\n",
    "        top_NODEs_with_alarms = df[:5]\n",
    "\n",
    "        return top_NODEs_with_alarms\n",
    "              \n",
    "    except:\n",
    "        print('')\n",
    "        \n",
    "\n",
    "# Function to print top NODEs\n",
    "\n",
    "def top_5_NODEs_summary():\n",
    "    try:\n",
    "        dd=topalarms.copy()\n",
    "              \n",
    "        #print('NODE Analysis:')\n",
    "    #     print('Top 5 NODEs')\n",
    "    #     for i in range(5):\n",
    "    #         print(i+1,NODEs.NODE[i])\n",
    "        return('Top 5 NODEs contribute to '+str(round(NODEs['cum_per'].max()))+'% of the total alarm population')\n",
    "              \n",
    "    except:\n",
    "        print('')\n",
    "        \n",
    "\n",
    "# Top alarms NODE wise function\n",
    "\n",
    "def fetch_NODE_wise_top_alarms(NODEs):\n",
    "    try:\n",
    "\n",
    "        conn = pyodbc.connect(establish_connection)\n",
    "\n",
    "        data_for_all_NODEs=pd.DataFrame()\n",
    "\n",
    "        for NODE in NODEs:\n",
    "\n",
    "            #cursor = conn.cursor()\n",
    "            #cursor.execute('SELECT top 10 * FROM dbo.Alarm_Trend_Test')\n",
    "            SQL_Query_lastweekdata = \"Select X733SPECIFICPROB, sum(Record_Count) as Alarms from dbo.Standard_derivation_Test where (NODE = '\" + NODE + \"') and (cast(FirstOccurrenceDate as date) >= cast(DATEADD(day,-6,DATEADD(day,-(((DATEPART(dw,getdate()+1)+5) % 7 )),GETDATE())) as date)) and (cast(FirstOccurrenceDate as date) <= cast(DATEADD(day,-(((DATEPART(dw,getdate()+1)+5) % 7 )),GETDATE()) as date)) group by X733SPECIFICPROB order by Alarms Desc\"\n",
    "            #SQL_Query_Tellabs_highest_temp_site = 'Select [NE NAME] , TLDevTemp as Tellabs_Temp from dbo.DM_MWTLheatdata where TLDevTemp IN (Select max(TLDEVTEMP) as max_temp from dbo.DM_MWTLheatdata  where Week IN (Select TOP 1 Week from dbo.DM_MWTLheatdata order by Date)) and Week IN (Select TOP 1 Week from dbo.DM_MWTLheatdata order by Date)'\n",
    "\n",
    "            #for row in cursor:\n",
    "            #    print(row)\n",
    "\n",
    "            df = pd.read_sql(SQL_Query_lastweekdata,conn)\n",
    "            #print (df)\n",
    "            #conn.close()\n",
    "\n",
    "            #Top 5 NODEs with greatest alarms\n",
    "            global top_NODEs_with_alarms\n",
    "            top_NODEs_with_alarms = df[:5]\n",
    "            top_NODEs_with_alarms['NODE']=NODE\n",
    "\n",
    "\n",
    "    #         t_text = '[\"' + top_NODEs_with_alarms['X733SPECIFICPROB'].astype(str) + '\" :- ' + top_NODEs_with_alarms['Alarms'].astype(str) + ']'\n",
    "    #         t_text = ', '.join(t_text.values)\n",
    "\n",
    "            data_for_all_NODEs=pd.concat([data_for_all_NODEs,top_NODEs_with_alarms])\n",
    "\n",
    "\n",
    "\n",
    "        data_for_all_NODEs=data_for_all_NODEs[['NODE','X733SPECIFICPROB','Alarms']]\n",
    "\n",
    "\n",
    "    #     Summary = '''Alarms Summary :-\n",
    "    #     Top 5 Alarms on the ''' + NODE + ''' :-''' + t_text\n",
    "\n",
    "        return data_for_all_NODEs\n",
    "              \n",
    "    except:\n",
    "        print('')\n",
    "        \n",
    "\n",
    "\n",
    "# Function to chart top NODEs contributing to alarms\n",
    "# Top 5 alarms Charts\n",
    "def top_NODEs_chart():\n",
    "    try:\n",
    "        dd=topalarms.copy()\n",
    "        print('Alarm Count for Top NODEs')\n",
    "        plt.figure(figsize=(16, 6))\n",
    "        splot = sns.barplot(x=\"NODE\", y=\"Alarms\", data=NODEs, label='small');\n",
    "        splot.tick_params(labelsize=10)\n",
    "        plt.title('Top NODEs')\n",
    "\n",
    "\n",
    "        for p in splot.patches:\n",
    "            splot.annotate(format(p.get_height(), '.2f'),\n",
    "                           (p.get_x() + p.get_width() / 2.,\n",
    "                            p.get_height()), ha = 'center',\n",
    "                           va = 'center', xytext = (0, 10),\n",
    "                           textcoords = 'offset points') \n",
    "              \n",
    "              \n",
    "    except:\n",
    "        print('')\n",
    "        \n",
    "\n",
    "# Top alarms NODE wise summaryu\n",
    "\n",
    "\n",
    "def top_alarms_NODE_wise_summary():\n",
    "    try:\n",
    "        dd=topalarms.copy()\n",
    "        print('Below are the top NODEs appeared in last week')\n",
    "\n",
    "        NODE_list=list(output1.NODE.unique())\n",
    "        for i in NODE_list :\n",
    "            print(str(NODE_list.index(i)+1) +'. NODE-'+i)\n",
    "            print('\\tTop contributing Alarms:'.ljust(40))\n",
    "            df=output1[output1['NODE']==i]\n",
    "\n",
    "            for j in list(df.X733SPECIFICPROB.unique()):\n",
    "                print(('\\t' + j+'[' +str(int(df[df.X733SPECIFICPROB==j]['Alarms'].values)) + ']').ljust(40)) \n",
    "              \n",
    "    except:\n",
    "        print('')\n",
    "        \n",
    "\n",
    "            \n",
    "def alarms_NODE_wise_chart():\n",
    "    try:\n",
    "        dd=topalarms.copy()\n",
    "        print('Alarm Count of Top Alarms falling in Top 5 NODEs')\n",
    "        plt.figure(figsize=(20,10))\n",
    "        splot = sns.barplot(x=\"NODE\", y=\"Alarms\", hue=\"X733SPECIFICPROB\", data=output1); \n",
    "        splot.legend(loc='upper right')\n",
    "              \n",
    "    except:\n",
    "        print('')\n",
    "        \n",
    "    \n",
    "# Function to fetch top 5 Alarms\n",
    "\n",
    "def alarms_week_wise():\n",
    "    try:\n",
    "        conn = pyodbc.connect(establish_connection)\n",
    "\n",
    "        #cursor = conn.cursor()\n",
    "        #cursor.execute('SELECT top 10 * FROM dbo.Alarm_Trend_Test')\n",
    "        SQL_Query = \"Select Firstoccurenceweek, sum(Record_Count) as Alarms from dbo.Standard_derivation_Test where (cast(FirstOccurrenceDate as date) >= cast(DATEADD(day,-44,DATEADD(day,-(((DATEPART(dw,getdate()+1)+5) % 7 )),GETDATE())) as date)) and (cast(FirstOccurrenceDate as date) <= cast(DATEADD(day,-(((DATEPART(dw,getdate()+1)+5) % 7 )),GETDATE()) as date)) group by Firstoccurenceweek order by Firstoccurenceweek\"\n",
    "        #SQL_Query_Tellabs_highest_temp_site = 'Select [NE NAME] , TLDevTemp as Tellabs_Temp from dbo.DM_MWTLheatdata where TLDevTemp IN (Select max(TLDEVTEMP) as max_temp from dbo.DM_MWTLheatdata  where Week IN (Select TOP 1 Week from dbo.DM_MWTLheatdata order by Date)) and Week IN (Select TOP 1 Week from dbo.DM_MWTLheatdata order by Date)'\n",
    "\n",
    "        #for row in cursor:\n",
    "        #    print(row)\n",
    "\n",
    "        df = pd.read_sql(SQL_Query,conn)\n",
    "        #print (df)\n",
    "        conn.close()\n",
    "\n",
    "\n",
    "        return df\n",
    "              \n",
    "    except:\n",
    "        print('')\n",
    "        \n",
    "\n",
    "# Function to fetch top 5 Alarms\n",
    "\n",
    "def alarms_domain_week_wise():\n",
    "              \n",
    "    try:\n",
    "        conn = pyodbc.connect(establish_connection)\n",
    "\n",
    "        #cursor = conn.cursor()\n",
    "        #cursor.execute('SELECT top 10 * FROM dbo.Alarm_Trend_Test')\n",
    "        SQL_Query = \"Select Firstoccurenceweek,Domain, sum(Record_Count) as Alarms from dbo.Standard_derivation_Test where (cast(FirstOccurrenceDate as date) >= cast(DATEADD(day,-44,DATEADD(day,-(((DATEPART(dw,getdate()+1)+5) % 7 )),GETDATE())) as date)) and (cast(FirstOccurrenceDate as date) <= cast(DATEADD(day,-(((DATEPART(dw,getdate()+1)+5) % 7 )),GETDATE()) as date)) group by Firstoccurenceweek, Domain order by Firstoccurenceweek\"\n",
    "        #SQL_Query_Tellabs_highest_temp_site = 'Select [NE NAME] , TLDevTemp as Tellabs_Temp from dbo.DM_MWTLheatdata where TLDevTemp IN (Select max(TLDEVTEMP) as max_temp from dbo.DM_MWTLheatdata  where Week IN (Select TOP 1 Week from dbo.DM_MWTLheatdata order by Date)) and Week IN (Select TOP 1 Week from dbo.DM_MWTLheatdata order by Date)'\n",
    "\n",
    "        #for row in cursor:\n",
    "        #    print(row)\n",
    "\n",
    "        df = pd.read_sql(SQL_Query,conn)\n",
    "        #print (df)\n",
    "        conn.close()\n",
    "\n",
    "\n",
    "        return df\n",
    "\n",
    "    except:\n",
    "        print('')\n",
    "        \n",
    "\n",
    "def TT_created_week_wise():\n",
    "    try:\n",
    "              \n",
    "        conn = pyodbc.connect(establish_connection)\n",
    "        SQL_Query = \"Select [Creation Week], sum([TT Count]) as Tickets from [dbo].[Standard Derivation TT Agg] where (cast([Creation Date] as date) >= cast(DATEADD(day,-44,DATEADD(day,-(((DATEPART(dw,getdate()+1)+5) % 7 )),GETDATE())) as date)) and (cast([Creation Date] as date) <= cast(DATEADD(day,-(((DATEPART(dw,getdate()+1)+5) % 7 )),GETDATE()) as date)) group by [Creation Week] order by [Creation Week]\" \n",
    "\n",
    "        df = pd.read_sql(SQL_Query,conn)\n",
    "        #print (df)\n",
    "        conn.close()\n",
    "\n",
    "\n",
    "        return df\n",
    "              \n",
    "              \n",
    "    except:\n",
    "              \n",
    "        print('')\n",
    "        \n",
    "\n",
    "\n",
    "## TT trend cast(Closing Date as date)\n",
    "\n",
    "def TT_closed_week_wise():\n",
    "              \n",
    "    try:\n",
    "        conn = pyodbc.connect(establish_connection)\n",
    "        SQL_Query = \"Select [Closing Week], sum([TT Count]) as Tickets from [dbo].[Standard Derivation TT Agg] where (cast([Closing Date] as date) >= cast(DATEADD(day,-44,DATEADD(day,-(((DATEPART(dw,getdate()+1)+5) % 7 )),GETDATE())) as date)) and (cast([Closing Date] as date) <= cast(DATEADD(day,-(((DATEPART(dw,getdate()+1)+5) % 7 )),GETDATE()) as date)) group by [Closing Week] order by [Closing Week]\" \n",
    "\n",
    "        df = pd.read_sql(SQL_Query,conn)\n",
    "        #print (df)\n",
    "        conn.close()\n",
    "\n",
    "\n",
    "        return df\n",
    "    \n",
    "    except:\n",
    "        print('')\n",
    "\n",
    "        \n",
    "\n",
    "## Top 5 sites TT fetch\n",
    "def fetch_top_sites_TT():\n",
    "              \n",
    "    try:\n",
    "        conn = pyodbc.connect(establish_connection)\n",
    "\n",
    "\n",
    "        SQL_Query = \"Select [Site ID], sum([TT Count]) as Tickets from [dbo].[Standard Derivation TT Agg] where (cast([Creation Date] as date) >= cast(DATEADD(day,-6,DATEADD(day,-(((DATEPART(dw,getdate()+1)+5) % 7 )),GETDATE())) as date)) and (cast([Creation Date] as date) <= cast(DATEADD(day,-(((DATEPART(dw,getdate()+1)+5) % 7 )),GETDATE()) as date)) group by [Site ID] order by Tickets Desc\" \n",
    "\n",
    "\n",
    "        df = pd.read_sql(SQL_Query,conn)\n",
    "        #print (df)\n",
    "        conn.close()\n",
    "\n",
    "        #Top 5 alarms per Domain\n",
    "        df[\"Percnt_contri\"]=round((df.Tickets/df.Tickets.sum())*100)\n",
    "        df[\"cum_sum\"] = df.Tickets.cumsum()\n",
    "        df[\"cum_per\"] = 100*df.cum_sum/df.Tickets.sum()\n",
    "\n",
    "\n",
    "        top_sites_tt = df[:5]\n",
    "\n",
    "\n",
    "        return top_sites_tt\n",
    "    except:\n",
    "        print('')\n",
    "              \n",
    "\n",
    "        \n",
    "              \n",
    "\n",
    "\n",
    "def fetch_top_sites_TT1():\n",
    "    try:\n",
    "        conn = pyodbc.connect(establish_connection)\n",
    "\n",
    "\n",
    "        SQL_Query = \"Select [Site ID], sum([TT Count]) as Tickets from [dbo].[Standard Derivation TT Agg] where (cast([Closing Date] as date) >= cast(DATEADD(day,-6,DATEADD(day,-(((DATEPART(dw,getdate()+1)+5) % 7 )),GETDATE())) as date)) and (cast([Closing Date] as date) <= cast(DATEADD(day,-(((DATEPART(dw,getdate()+1)+5) % 7 )),GETDATE()) as date)) group by [Site ID] order by Tickets Desc\" \n",
    "\n",
    "\n",
    "        df = pd.read_sql(SQL_Query,conn)\n",
    "        #print (df)\n",
    "        conn.close()\n",
    "\n",
    "        #Top 5 alarms per Domain\n",
    "        df[\"Percnt_contri\"]=round((df.Tickets/df.Tickets.sum())*100)\n",
    "        df[\"cum_sum\"] = df.Tickets.cumsum()\n",
    "        df[\"cum_per\"] = 100*df.cum_sum/df.Tickets.sum()\n",
    "\n",
    "\n",
    "        top_sites_tt1 = df[:5]\n",
    "\n",
    "\n",
    "        return top_sites_tt1\n",
    "    except:\n",
    "        print('')\n",
    "\n",
    "        \n",
    "              \n",
    "              \n",
    "\n",
    "\n",
    "## Top 5 sites TT summary\n",
    "\n",
    "def top_5_site_tt_summary():\n",
    "    try:\n",
    "        dd = top_5_sites_TT_created.copy()\n",
    "        print('TT Analysis:')\n",
    "    #     print('Top 5 Alarms')\n",
    "    #     for i in range(5):\n",
    "    #         print(str(i+1)+\" \"+str(topalarms.X733SPECIFICPROB[i])+\" [\"+str(topalarms.Percnt_contri[i])+'%]')\n",
    "        #print('\\nTop 5 Sites contribute to '+str(round(top_5_sites_TT['cum_per'].max()))+'% of the total TT created')\n",
    "\n",
    "\n",
    "    # Top 5 site wise TT Charts\n",
    "              \n",
    "    except:\n",
    "        print('')\n",
    "        \n",
    "\n",
    "def top_5_sites_TT_chart():\n",
    "    try:\n",
    "        dd = top_5_sites_TT_created.copy()\n",
    "        print('Top 5 Sites TT Created Count')\n",
    "\n",
    "\n",
    "        plt.figure(figsize=(16, 6))\n",
    "        splot = sns.barplot(x=\"Site ID\", y=\"Tickets\", data=top_5_sites_TT_created,label = 'small');\n",
    "        splot.tick_params(labelsize=7.5)\n",
    "        plt.title('Top Sites')\n",
    "        for p in splot.patches:\n",
    "            splot.annotate(format(p.get_height(), '.2f'),\n",
    "                           (p.get_x() + p.get_width() / 2.,\n",
    "                            p.get_height()), ha = 'center',\n",
    "                           va = 'center', xytext = (0, 10),\n",
    "                           textcoords = 'offset points');\n",
    "        \n",
    "    except:\n",
    "        print('')\n",
    "        \n",
    "              \n",
    "              \n",
    "def top_5_sites_TT_chart1():\n",
    "              \n",
    "    try:\n",
    "        dd = top_5_sites_TT_closed.copy()\n",
    "        print('Top 5 Sites TT Closed Count')\n",
    "\n",
    "\n",
    "        plt.figure(figsize=(16, 6))\n",
    "        splot = sns.barplot(x=\"Site ID\", y=\"Tickets\", data=top_5_sites_TT_closed,label = 'small');\n",
    "        splot.tick_params(labelsize=7.5)\n",
    "        plt.title('Top Sites')\n",
    "        for p in splot.patches:\n",
    "            splot.annotate(format(p.get_height(), '.2f'),\n",
    "                           (p.get_x() + p.get_width() / 2.,\n",
    "                            p.get_height()), ha = 'center',\n",
    "                           va = 'center', xytext = (0, 10),\n",
    "                           textcoords = 'offset points');\n",
    "    except:\n",
    "        print('')\n",
    "              \n",
    "        \n",
    "              \n",
    "              \n",
    "##Priority wise tt fetch        \n",
    "        \n",
    "def fetch_priority_wise_TT():\n",
    "              \n",
    "    try:\n",
    "        conn = pyodbc.connect(establish_connection)\n",
    "\n",
    "\n",
    "        SQL_Query = \"Select [Priority], sum([TT Count]) as Tickets from [dbo].[Standard Derivation TT Agg] where (cast([Creation Date] as date) >= cast(DATEADD(day,-6,DATEADD(day,-(((DATEPART(dw,getdate()+1)+5) % 7 )),GETDATE())) as date)) and (cast([Creation Date] as date) <= cast(DATEADD(day,-(((DATEPART(dw,getdate()+1)+5) % 7 )),GETDATE()) as date)) group by [Priority] order by Tickets Desc\" \n",
    "\n",
    "\n",
    "        df = pd.read_sql(SQL_Query,conn)\n",
    "        #print (df)\n",
    "        conn.close()\n",
    "\n",
    "        #Top 5 alarms per Domain\n",
    "        df[\"Percnt_contri\"]=round((df.Tickets/df.Tickets.sum())*100)\n",
    "        df[\"cum_sum\"] = df.Tickets.cumsum()\n",
    "        df[\"cum_per\"] = 100*df.cum_sum/df.Tickets.sum()\n",
    "\n",
    "\n",
    "        priority_wise_tt = df.copy()\n",
    "\n",
    "\n",
    "        return priority_wise_tt\n",
    "\n",
    "    except:\n",
    "        print('')\n",
    "        \n",
    "def priority_wise_TT_summary():\n",
    "    try:\n",
    "        dd = priority_wise_TT.copy()    \n",
    "              \n",
    "        print('Priority wise TT Distribution')\n",
    "\n",
    "        for i in range(len(priority_wise_TT['Priority'])):\n",
    "            print(\"\\t\" + str(i+1)+\". \"+str(priority_wise_TT.Priority[i])+\" [\"+str(priority_wise_TT.Percnt_contri[i])+'%]')\n",
    "\n",
    "    except:\n",
    "        print('')"
   ]
  },
  {
   "cell_type": "code",
   "execution_count": 20,
   "metadata": {
    "extensions": {
     "jupyter_dashboards": {
      "version": 1,
      "views": {
       "grid_default": {},
       "report_default": {
        "hidden": true
       }
      }
     }
    }
   },
   "outputs": [],
   "source": [
    "# Required data making first\n",
    "\n",
    "#To get top alarms\n",
    "topalarms=fetch_top_alarms()\n",
    "\n",
    "# Top NODEs alarm wise\n",
    "output_alarm_wise_NODEs=fetch_alarm_wise_top_NODEs(list(topalarms.X733SPECIFICPROB.unique()))\n",
    "\n",
    "#Top 5 NODEs\n",
    "NODEs=fetch_high_alarm_NODEs()\n",
    "\n",
    "# Top alarms NODE wise\n",
    "output1 = fetch_NODE_wise_top_alarms(list(NODEs.NODE.unique()))\n",
    "\n",
    "# Alarm trend week wise\n",
    "alarms_week_data=alarms_week_wise()\n",
    "\n",
    "#Alarm trend domain wise\n",
    "alarm_domain_week_data=alarms_domain_week_wise()\n",
    "\n",
    "# TT Trend created\n",
    "TT_created_week_wise_data=TT_created_week_wise()\n",
    "\n",
    "# TT Trend closed\n",
    "TT_closed_week_wise_data=TT_closed_week_wise()\n",
    "\n",
    "#Top 5 sites TT created\n",
    "top_5_sites_TT_created=fetch_top_sites_TT()\n",
    "\n",
    "top_5_sites_TT_closed=fetch_top_sites_TT1()\n",
    "\n",
    "#Priority Wise TT Created\n",
    "priority_wise_TT=fetch_priority_wise_TT()\n"
   ]
  },
  {
   "cell_type": "code",
   "execution_count": 5,
   "metadata": {
    "extensions": {
     "jupyter_dashboards": {
      "version": 1,
      "views": {
       "grid_default": {},
       "report_default": {
        "hidden": false
       }
      }
     }
    }
   },
   "outputs": [
    {
     "name": "stdout",
     "output_type": "stream",
     "text": [
      "                                            NBN_Australia: Analysis for 2020- WK10                                            \n",
      "\n"
     ]
    }
   ],
   "source": [
    "#To print heading\n",
    "heading()"
   ]
  },
  {
   "cell_type": "code",
   "execution_count": 6,
   "metadata": {
    "extensions": {
     "jupyter_dashboards": {
      "version": 1,
      "views": {
       "grid_default": {},
       "report_default": {
        "hidden": false
       }
      }
     }
    }
   },
   "outputs": [
    {
     "data": {
      "text/html": [
       "<a href=http://172.29.31.7:9310/bi/?perspective=dashboard&pathRef=.public_folders%2FFE_NBN-AU%2FStandard%2FDashboard%2FM1_DB_NBN-AU_alarm_analysis&action=view&mode=dashboard>Click here for Alarm Cognos Dashboard View</a>"
      ],
      "text/plain": [
       "<IPython.core.display.HTML object>"
      ]
     },
     "metadata": {},
     "output_type": "display_data"
    }
   ],
   "source": [
    "try:\n",
    "    link_to_alarm_data=df[df['Cognos Customer folder name'] == database]\n",
    "    link_to_alarm_list=list(link_to_alarm_data['Cognos Link'].unique())\n",
    "    link_to_alarm_list_link=link_to_alarm_list[0]\n",
    "    display(HTML(\"<a href=\"+link_to_alarm_list_link+\">Click here for Alarm Cognos Dashboard View</a>\")) \n",
    "except:\n",
    "    print(\"Alarm data not available\")"
   ]
  },
  {
   "cell_type": "code",
   "execution_count": 7,
   "metadata": {},
   "outputs": [
    {
     "data": {
      "text/html": [
       "<a href=http://172.29.31.7:9310/bi/?perspective=dashboard&pathRef=.public_folders%2FFE_NBN-AU%2FStandard%2FDashboard%2FM2_DB_NBN-AU_TT_alaysis&action=view&mode=dashboard>Click here for TT Cognos Dashboard View</a>"
      ],
      "text/plain": [
       "<IPython.core.display.HTML object>"
      ]
     },
     "metadata": {},
     "output_type": "display_data"
    }
   ],
   "source": [
    "try:\n",
    "    link_to_tt_data=df[df['Cognos Customer folder name'] == database]\n",
    "    link_to_tt_list=list(link_to_tt_data['Cognos Link 1'].unique())\n",
    "    link_to_tt_list_link=link_to_tt_list[0]\n",
    "    display(HTML(\"<a href=\"+link_to_tt_list_link+\">Click here for TT Cognos Dashboard View</a>\")) \n",
    "except:\n",
    "    print(\"TT data not available\")"
   ]
  },
  {
   "cell_type": "code",
   "execution_count": 8,
   "metadata": {
    "extensions": {
     "jupyter_dashboards": {
      "version": 1,
      "views": {
       "grid_default": {},
       "report_default": {
        "hidden": false
       }
      }
     }
    },
    "scrolled": true
   },
   "outputs": [
    {
     "name": "stdout",
     "output_type": "stream",
     "text": [
      "Alarm Analysis:\n"
     ]
    }
   ],
   "source": [
    "#Top 5 alarm summary\n",
    "top_5_alarm_summary()"
   ]
  },
  {
   "cell_type": "code",
   "execution_count": 9,
   "metadata": {
    "extensions": {
     "jupyter_dashboards": {
      "version": 1,
      "views": {
       "grid_default": {},
       "report_default": {
        "hidden": false
       }
      }
     }
    }
   },
   "outputs": [
    {
     "name": "stdout",
     "output_type": "stream",
     "text": [
      "Top 5 Alarms Alarm Count\n"
     ]
    },
    {
     "data": {
      "image/png": "[encoded data removed]",
      "text/plain": [
       "<Figure size 1152x432 with 1 Axes>"
      ]
     },
     "metadata": {
      "needs_background": "light"
     },
     "output_type": "display_data"
    }
   ],
   "source": [
    "#Top 5 alarm chart\n",
    "top_5_alarms_chart()"
   ]
  },
  {
   "cell_type": "code",
   "execution_count": 10,
   "metadata": {
    "extensions": {
     "jupyter_dashboards": {
      "version": 1,
      "views": {
       "grid_default": {},
       "report_default": {
        "hidden": false
       }
      }
     }
    }
   },
   "outputs": [
    {
     "name": "stdout",
     "output_type": "stream",
     "text": [
      "Below are the top alarms appeared in last week\n",
      "1. Alarm-External Alarm\n",
      "\tTop contributing NODEs:                \n",
      "\tWReNB400531PD[542]                     \n",
      "\tWReNB200671PD[184]                     \n",
      "\tWReNB406501PD[182]                     \n",
      "\tWReNB406571PD[130]                     \n",
      "\tWReNB203341PD[129]                     \n",
      "2. Alarm-Heartbeat Failure\n",
      "\tTop contributing NODEs:                \n",
      "\tWRSSC600851PD[69]                      \n",
      "\tWReNB305874PD[65]                      \n",
      "\tWReNB701371PD[39]                      \n",
      "\tWReNB202791PD[36]                      \n",
      "\tWReNB301561PD[32]                      \n",
      "3. Alarm-HCC NE\n",
      "\tTop contributing NODEs:                \n",
      "\tWRWMU400141PD[73]                      \n",
      "\tWRWMU202551PD[70]                      \n",
      "\tWRWMU204152PD[62]                      \n",
      "\tWRWMU200451PD[57]                      \n",
      "\tWRWMU401761PD[44]                      \n",
      "4. Alarm-Loss Of Lock\n",
      "\tTop contributing NODEs:                \n",
      "\tWRWMU202941PD[238]                     \n",
      "\tWRWMU502081PD[105]                     \n",
      "\tWRWMU601292PD[100]                     \n",
      "\tWRWMU501671PD[68]                      \n",
      "\tWRWMU202511PD[43]                      \n",
      "5. Alarm-RF Input Level\n",
      "\tTop contributing NODEs:                \n",
      "\tWRWMU202941PD[154]                     \n",
      "\tWRWMU303033PD[80]                      \n",
      "\tWRWMU502081PD[35]                      \n",
      "\tWRWMU400021PD[32]                      \n",
      "\tWRWMU200901PD[25]                      \n"
     ]
    }
   ],
   "source": [
    "#Top nodes alarm wise summary\n",
    "top_NODEs_alarm_wise_summary()"
   ]
  },
  {
   "cell_type": "code",
   "execution_count": 11,
   "metadata": {
    "extensions": {
     "jupyter_dashboards": {
      "version": 1,
      "views": {
       "grid_default": {},
       "report_default": {
        "hidden": false
       }
      }
     }
    }
   },
   "outputs": [],
   "source": [
    "#Top nodes alarm wise chart\n",
    "#top_nodes_alarm_wise_chart()"
   ]
  },
  {
   "cell_type": "code",
   "execution_count": 12,
   "metadata": {
    "extensions": {
     "jupyter_dashboards": {
      "version": 1,
      "views": {
       "grid_default": {},
       "report_default": {
        "hidden": false
       }
      }
     }
    }
   },
   "outputs": [],
   "source": [
    "#Top 5 Nodes summary\n",
    "#top_5_nodes_summary()"
   ]
  },
  {
   "cell_type": "code",
   "execution_count": 11,
   "metadata": {
    "extensions": {
     "jupyter_dashboards": {
      "version": 1,
      "views": {
       "grid_default": {},
       "report_default": {
        "hidden": false
       }
      }
     }
    }
   },
   "outputs": [
    {
     "name": "stdout",
     "output_type": "stream",
     "text": [
      "Alarm Count for Top NODEs\n"
     ]
    },
    {
     "data": {
      "image/png": "[encoded data removed]",
      "text/plain": [
       "<Figure size 1152x432 with 1 Axes>"
      ]
     },
     "metadata": {
      "needs_background": "light"
     },
     "output_type": "display_data"
    }
   ],
   "source": [
    "#Top 5 nodes chart\n",
    "top_NODEs_chart()"
   ]
  },
  {
   "cell_type": "code",
   "execution_count": 12,
   "metadata": {
    "extensions": {
     "jupyter_dashboards": {
      "version": 1,
      "views": {
       "grid_default": {},
       "report_default": {
        "hidden": false
       }
      }
     }
    }
   },
   "outputs": [
    {
     "name": "stdout",
     "output_type": "stream",
     "text": [
      "Below are the top NODEs appeared in last week\n",
      "1. NODE-WRWMU203831PD\n",
      "\tTop contributing Alarms:               \n",
      "\tCustom[554]                            \n",
      "\tES 15 min threshold crossing[4]        \n",
      "2. NODE-WReNB400531PD\n",
      "\tTop contributing Alarms:               \n",
      "\tExternal Alarm[542]                    \n",
      "3. NODE-WReNB300144PD\n",
      "\tTop contributing Alarms:               \n",
      "\tLink Failure[132]                      \n",
      "\tNE and OSS alarms are not in sync[122] \n",
      "\tSFP Stability Problem[84]              \n",
      "\tEnclosure Product Data Mismatch[43]    \n",
      "\tGeneral SW Error[43]                   \n",
      "4. NODE-WRWMU202941PD\n",
      "\tTop contributing Alarms:               \n",
      "\tLoss Of Lock[238]                      \n",
      "\tRF Input Level[154]                    \n",
      "\tBBE 15 min threshold crossing[9]       \n",
      "\tBBE 24 h threshold crossing[4]         \n",
      "\tES 24 h threshold crossing[4]          \n",
      "5. NODE-WRSSC401481PD\n",
      "\tTop contributing Alarms:               \n",
      "\tOne rectifier failure[242]             \n",
      "\tMore rectifier failure[150]            \n"
     ]
    }
   ],
   "source": [
    "# Top alarms node wise summary\n",
    "top_alarms_NODE_wise_summary()"
   ]
  },
  {
   "cell_type": "code",
   "execution_count": 13,
   "metadata": {
    "extensions": {
     "jupyter_dashboards": {
      "version": 1,
      "views": {
       "grid_default": {},
       "report_default": {
        "hidden": true
       }
      }
     }
    }
   },
   "outputs": [],
   "source": [
    "%%capture\n",
    "try:\n",
    "\n",
    "    week_list=sorted(list(alarm_domain_week_data.Firstoccurenceweek.unique()))\n",
    "    week_4=week_list[-6:]\n",
    "    alarm_domain_week_data_filter=alarm_domain_week_data[alarm_domain_week_data['Firstoccurenceweek'].isin(week_4)]\n",
    "    plt.figure(figsize=(10, 6))\n",
    "    splot=sns.lineplot(x='Firstoccurenceweek', y='Alarms', hue='Domain', data=alarm_domain_week_data_filter)\n",
    "    plt.title('Domain Wise Weekly Trend')\n",
    "    plt.savefig(\"C:\\\\Users\\\\ejariah\\\\Downloads\\\\recommendation\\\\alarm_domain_trend.jpg\")\n",
    "    plt.legend(loc = 1)\n",
    "except:\n",
    "    print(\"\")"
   ]
  },
  {
   "cell_type": "code",
   "execution_count": 14,
   "metadata": {
    "extensions": {
     "jupyter_dashboards": {
      "version": 1,
      "views": {
       "grid_default": {},
       "report_default": {
        "hidden": true
       }
      }
     }
    }
   },
   "outputs": [],
   "source": [
    "%%capture\n",
    "try:\n",
    "    \n",
    "    plt.figure(figsize=(10, 6));\n",
    "    splot = sns.lineplot(x=\"Creation Week\", y=\"Tickets\", data=TT_created_week_wise_data.iloc[-6:])\n",
    "    plt.title('Created TT Weekly Trend')\n",
    "    plt.savefig(\"C:\\\\Users\\\\ejariah\\\\Downloads\\\\recommendation\\\\TT_Created_trend.jpg\")\n",
    "\n",
    "\n",
    "    plt.figure(figsize=(10, 6));\n",
    "    splot=sns.lineplot(x='Closing Week', y='Tickets',data=TT_closed_week_wise_data.iloc[-6:])\n",
    "    plt.title('Closed TT Weekly Trend')\n",
    "\n",
    "    plt.savefig(\"C:\\\\Users\\\\ejariah\\\\Downloads\\\\recommendation\\\\TT_Closed_trend.jpg\")\n",
    "except:\n",
    "    print(\"\")\n"
   ]
  },
  {
   "cell_type": "code",
   "execution_count": 15,
   "metadata": {
    "extensions": {
     "jupyter_dashboards": {
      "version": 1,
      "views": {
       "grid_default": {},
       "report_default": {
        "hidden": false
       }
      }
     }
    }
   },
   "outputs": [
    {
     "name": "stdout",
     "output_type": "stream",
     "text": [
      "TT Analysis:\n"
     ]
    },
    {
     "data": {
      "text/html": [
       "<a href=http://172.29.31.7:9310/bi/?perspective=dashboard&pathRef=.public_folders%2FFE_NBN-AU%2FStandard%2FDashboard%2FM2_DB_NBN-AU_TT_alaysis&action=view&mode=dashboard>Click here for TT Cognos Dashboard View</a>"
      ],
      "text/plain": [
       "<IPython.core.display.HTML object>"
      ]
     },
     "metadata": {},
     "output_type": "display_data"
    }
   ],
   "source": [
    "top_5_site_tt_summary()\n",
    "\n",
    "try:\n",
    "    link_to_tt_data=df[df['Cognos Customer folder name'] == database]\n",
    "    link_to_tt_list=list(link_to_tt_data['Cognos Link 1'].unique())\n",
    "    link_to_tt_list_link=link_to_tt_list[0]\n",
    "    display(HTML(\"<a href=\"+link_to_tt_list_link+\">Click here for TT Cognos Dashboard View</a>\")) \n",
    "except:\n",
    "    print(\"\")"
   ]
  },
  {
   "cell_type": "code",
   "execution_count": 16,
   "metadata": {
    "extensions": {
     "jupyter_dashboards": {
      "version": 1,
      "views": {
       "grid_default": {},
       "report_default": {
        "hidden": false
       }
      }
     }
    },
    "scrolled": true
   },
   "outputs": [
    {
     "name": "stdout",
     "output_type": "stream",
     "text": [
      "Top 5 Sites TT Created Count\n"
     ]
    },
    {
     "data": {
      "image/png": "[encoded data removed]",
      "text/plain": [
       "<Figure size 1152x432 with 1 Axes>"
      ]
     },
     "metadata": {
      "needs_background": "light"
     },
     "output_type": "display_data"
    }
   ],
   "source": [
    "top_5_sites_TT_chart()"
   ]
  },
  {
   "cell_type": "code",
   "execution_count": 17,
   "metadata": {},
   "outputs": [
    {
     "name": "stdout",
     "output_type": "stream",
     "text": [
      "Top 5 Sites TT Closed Count\n"
     ]
    },
    {
     "data": {
      "image/png": "[encoded data removed]",
      "text/plain": [
       "<Figure size 1152x432 with 1 Axes>"
      ]
     },
     "metadata": {
      "needs_background": "light"
     },
     "output_type": "display_data"
    }
   ],
   "source": [
    "top_5_sites_TT_chart1()"
   ]
  },
  {
   "cell_type": "code",
   "execution_count": 21,
   "metadata": {
    "extensions": {
     "jupyter_dashboards": {
      "version": 1,
      "views": {
       "grid_default": {},
       "report_default": {
        "hidden": false
       }
      }
     }
    }
   },
   "outputs": [
    {
     "name": "stdout",
     "output_type": "stream",
     "text": [
      "Priority wise TT Distribution\n",
      "\t1. Minor [58.0%]\n",
      "\t2. Medium [26.0%]\n",
      "\t3. Non-service affecting [14.0%]\n",
      "\t4. Major [2.0%]\n",
      "\t5. Critical [0.0%]\n",
      "\t6. None [0.0%]\n"
     ]
    }
   ],
   "source": [
    "priority_wise_TT_summary()"
   ]
  },
  {
   "cell_type": "code",
   "execution_count": null,
   "metadata": {},
   "outputs": [],
   "source": []
  }
 ],
 "metadata": {
  "extensions": {
   "jupyter_dashboards": {
    "activeView": "report_default",
    "version": 1,
    "views": {
     "grid_default": {
      "cellMargin": 10,
      "defaultCellHeight": 20,
      "maxColumns": 12,
      "name": "grid",
      "type": "grid"
     },
     "report_default": {
      "name": "report",
      "type": "report"
     }
    }
   }
  },
  "kernelspec": {
   "display_name": "Python 3",
   "language": "python",
   "name": "python3"
  },
  "language_info": {
   "codemirror_mode": {
    "name": "ipython",
    "version": 3
   },
   "file_extension": ".py",
   "mimetype": "text/x-python",
   "name": "python",
   "nbconvert_exporter": "python",
   "pygments_lexer": "ipython3",
   "version": "3.7.3"
  }
 },
 "nbformat": 4,
 "nbformat_minor": 2
}

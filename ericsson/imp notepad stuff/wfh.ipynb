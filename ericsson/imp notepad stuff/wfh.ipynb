{
 "cells": [
  {
   "cell_type": "code",
   "execution_count": 2,
   "metadata": {},
   "outputs": [
    {
     "name": "stdout",
     "output_type": "stream",
     "text": [
      "Collecting pyautogui\n",
      "  Downloading https://files.pythonhosted.org/packages/40/0a/1373680148828d7ea3f0e432f06c08f51a33d72306719954d3ae379f5890/PyAutoGUI-0.9.52.tar.gz (55kB)\n",
      "Collecting pymsgbox (from pyautogui)\n",
      "  Downloading https://files.pythonhosted.org/packages/7d/ff/4c6f31a4f08979f12a663f2aeb6c8b765d3bd592e66eaaac445f547bb875/PyMsgBox-1.0.9.tar.gz\n",
      "  Installing build dependencies: started\n",
      "  Installing build dependencies: finished with status 'done'\n",
      "  Getting requirements to build wheel: started\n",
      "  Getting requirements to build wheel: finished with status 'done'\n",
      "    Preparing wheel metadata: started\n",
      "    Preparing wheel metadata: finished with status 'done'\n",
      "Collecting PyTweening>=1.0.1 (from pyautogui)\n",
      "  Downloading https://files.pythonhosted.org/packages/b9/f8/c32a58d6e4dff8aa5c27e907194d69f3b57e525c2e4af96f39c6e9c854d2/PyTweening-1.0.3.zip\n",
      "Collecting pyscreeze>=0.1.21 (from pyautogui)\n",
      "  Downloading https://files.pythonhosted.org/packages/b7/7d/a0e85da28a96e2ff2f39e682ff84eb92501b564883fde87d92aee29966a2/PyScreeze-0.1.26.tar.gz\n",
      "Collecting pygetwindow>=0.0.5 (from pyautogui)\n",
      "  Downloading https://files.pythonhosted.org/packages/e1/70/c7a4f46dbf06048c6d57d9489b8e0f9c4c3d36b7479f03c5ca97eaa2541d/PyGetWindow-0.0.9.tar.gz\n",
      "Collecting mouseinfo (from pyautogui)\n",
      "  Downloading https://files.pythonhosted.org/packages/28/fa/b2ba8229b9381e8f6381c1dcae6f4159a7f72349e414ed19cfbbd1817173/MouseInfo-0.1.3.tar.gz\n",
      "Requirement already satisfied: Pillow>=5.2.0 in c:\\users\\eatthim\\appdata\\local\\continuum\\anaconda3\\lib\\site-packages (from pyscreeze>=0.1.21->pyautogui) (6.1.0)\n",
      "Collecting pyrect (from pygetwindow>=0.0.5->pyautogui)\n",
      "  Downloading https://files.pythonhosted.org/packages/2f/68/bd7bf96fc44217e769f27912e6c9bb3e9987cba286054af6120448ce8212/PyRect-0.1.4.tar.gz\n",
      "Collecting pyperclip (from mouseinfo->pyautogui)\n",
      "  Downloading https://files.pythonhosted.org/packages/a7/2c/4c64579f847bd5d539803c8b909e54ba087a79d01bb3aba433a95879a6c5/pyperclip-1.8.2.tar.gz\n",
      "Building wheels for collected packages: pymsgbox\n",
      "  Building wheel for pymsgbox (PEP 517): started\n",
      "  Building wheel for pymsgbox (PEP 517): finished with status 'done'\n",
      "  Stored in directory: C:\\Users\\eatthim\\AppData\\Local\\pip\\Cache\\wheels\\16\\d7\\4e\\fffdd54b1cca86608b7655c9a2854890a38f955ce9532848cd\n",
      "Successfully built pymsgbox\n",
      "Building wheels for collected packages: pyautogui, PyTweening, pyscreeze, pygetwindow, mouseinfo, pyrect, pyperclip\n",
      "  Building wheel for pyautogui (setup.py): started\n",
      "  Building wheel for pyautogui (setup.py): finished with status 'done'\n",
      "  Stored in directory: C:\\Users\\eatthim\\AppData\\Local\\pip\\Cache\\wheels\\c8\\ae\\a9\\62d83c8ea2068e8553766c8f6f5fbf1f61d264701cafeca49f\n",
      "  Building wheel for PyTweening (setup.py): started\n",
      "  Building wheel for PyTweening (setup.py): finished with status 'done'\n",
      "  Stored in directory: C:\\Users\\eatthim\\AppData\\Local\\pip\\Cache\\wheels\\7b\\92\\30\\06e21159eed2709436bfb6d7c690959e578cf74f029643866e\n",
      "  Building wheel for pyscreeze (setup.py): started\n",
      "  Building wheel for pyscreeze (setup.py): finished with status 'done'\n",
      "  Stored in directory: C:\\Users\\eatthim\\AppData\\Local\\pip\\Cache\\wheels\\d4\\a5\\e1\\d06a3ae91e6c66ab67d540c215bc2a0da99155c1281e8c921e\n",
      "  Building wheel for pygetwindow (setup.py): started\n",
      "  Building wheel for pygetwindow (setup.py): finished with status 'done'\n",
      "  Stored in directory: C:\\Users\\eatthim\\AppData\\Local\\pip\\Cache\\wheels\\4b\\c1\\c6\\89b4fb35adcbfe54c5e71e830330dc39cfa231b32dc62eed6b\n",
      "  Building wheel for mouseinfo (setup.py): started\n",
      "  Building wheel for mouseinfo (setup.py): finished with status 'done'\n",
      "  Stored in directory: C:\\Users\\eatthim\\AppData\\Local\\pip\\Cache\\wheels\\eb\\81\\32\\4d7b345486dbc3f3ee45316f8f4cbdebafc1b5d1da3353b529\n",
      "  Building wheel for pyrect (setup.py): started\n",
      "  Building wheel for pyrect (setup.py): finished with status 'done'\n",
      "  Stored in directory: C:\\Users\\eatthim\\AppData\\Local\\pip\\Cache\\wheels\\3e\\61\\83\\8fd1478e984f7378e57972f5fd9bb0dbffc349fefc9efa5bf9\n",
      "  Building wheel for pyperclip (setup.py): started\n",
      "  Building wheel for pyperclip (setup.py): finished with status 'done'\n",
      "  Stored in directory: C:\\Users\\eatthim\\AppData\\Local\\pip\\Cache\\wheels\\25\\af\\b8\\3407109267803f4015e1ee2ff23be0c8c19ce4008665931ee1\n",
      "Successfully built pyautogui PyTweening pyscreeze pygetwindow mouseinfo pyrect pyperclip\n",
      "Installing collected packages: pymsgbox, PyTweening, pyscreeze, pyrect, pygetwindow, pyperclip, mouseinfo, pyautogui\n",
      "Successfully installed PyTweening-1.0.3 mouseinfo-0.1.3 pyautogui-0.9.52 pygetwindow-0.0.9 pymsgbox-1.0.9 pyperclip-1.8.2 pyrect-0.1.4 pyscreeze-0.1.26\n"
     ]
    }
   ],
   "source": [
    "!pip install pyautogui"
   ]
  },
  {
   "cell_type": "code",
   "execution_count": null,
   "metadata": {
    "scrolled": true
   },
   "outputs": [
    {
     "name": "stdout",
     "output_type": "stream",
     "text": [
      "\n",
      "Prevent Windows screenlock\n",
      "Enter keyboard button: k\n",
      "\n",
      "Running\n",
      "Press CTRL+C to stop.\n"
     ]
    }
   ],
   "source": [
    "## This script will simulate a keypress and prevent Windows from locking\n",
    "\n",
    "import pyautogui\n",
    "import time\n",
    "\n",
    "def no_lock(button):\n",
    "    try:\n",
    "        print ('Press CTRL+C to stop.')\n",
    "        while True:\n",
    "            pyautogui.press(button)     # Key pressed\n",
    "            time.sleep(30)\n",
    "            pyautogui.press(button)     # Key released\n",
    "            time.sleep(31)\n",
    "\n",
    "    except Exception as ex:\n",
    "        print ('no_lock | Error: ', ex)\n",
    "\n",
    "def main():\n",
    "    try:\n",
    "        print ('\\nPrevent Windows screenlock')\n",
    "        kb_button = str(input('Enter keyboard button: '))\n",
    "        \n",
    "        print ('\\nRunning')\n",
    "        no_lock(kb_button)\n",
    "\n",
    "    except KeyboardInterrupt:\n",
    "        print('\\nStopped')\n",
    "\n",
    "    except Exception as ex:\n",
    "        print ('main | Error: ', ex)\n",
    "\n",
    "if __name__ == \"__main__\":\n",
    "    main()\n",
    "                      \n",
    "        "
   ]
  },
  {
   "cell_type": "code",
   "execution_count": null,
   "metadata": {},
   "outputs": [],
   "source": [
    "hhhhaaaaaaaaaaaaaaaaaaaaaaaaaaaaaaaaaaaaaaaaaaaaaaaaaaaaaaaaaaaaaaaaaaaaaaaaaaaaaaaaaaaaaaaaakkkkkkkkkkkkkk"
   ]
  },
  {
   "cell_type": "code",
   "execution_count": null,
   "metadata": {},
   "outputs": [],
   "source": [
    "kkkkkkkkkkkkkkkkkkkkkkkkkkkkkkkkkkkkkkkkkkkkkllllllllkkkkkkkkkkkkkkkkkkkkkkkkkkkkkkkkkkkkkkkkkk"
   ]
  },
  {
   "cell_type": "code",
   "execution_count": 6,
   "metadata": {},
   "outputs": [],
   "source": [
    "string='my name is hasi is my so'\n",
    "\n",
    "\n",
    "d={}\n",
    "words= string.split()\n",
    "for i in words:\n",
    "    if i not in d.keys():\n",
    "        d[i]=0\n",
    "    d[i]=d[i]+1\n",
    "        "
   ]
  },
  {
   "cell_type": "code",
   "execution_count": 7,
   "metadata": {},
   "outputs": [
    {
     "data": {
      "text/plain": [
       "{'my': 2, 'name': 1, 'is': 2, 'hasi': 1, 'so': 1}"
      ]
     },
     "execution_count": 7,
     "metadata": {},
     "output_type": "execute_result"
    }
   ],
   "source": [
    "d"
   ]
  },
  {
   "cell_type": "code",
   "execution_count": 14,
   "metadata": {},
   "outputs": [],
   "source": [
    "def fact(n):\n",
    "    if n==1:\n",
    "        return n\n",
    "    else:\n",
    "        return n * fact(n-1)"
   ]
  },
  {
   "cell_type": "code",
   "execution_count": 15,
   "metadata": {},
   "outputs": [
    {
     "data": {
      "text/plain": [
       "24"
      ]
     },
     "execution_count": 15,
     "metadata": {},
     "output_type": "execute_result"
    }
   ],
   "source": [
    "fact(4)"
   ]
  },
  {
   "cell_type": "code",
   "execution_count": 24,
   "metadata": {},
   "outputs": [],
   "source": [
    "\n",
    "# Bubble sorting\n",
    "\n",
    "\n",
    "list=[1,23,4,7]\n",
    "\n",
    "for k in range (len(list)-1):\n",
    "    for i in range(len(list)-1-i):\n",
    "        if list[i] > list[i+1]:\n",
    "            temp=list[i]\n",
    "            list[i]=list[i+1]\n",
    "            list[i+1] = temp\n",
    "        \n"
   ]
  },
  {
   "cell_type": "code",
   "execution_count": 25,
   "metadata": {},
   "outputs": [
    {
     "data": {
      "text/plain": [
       "[1, 4, 7, 23]"
      ]
     },
     "execution_count": 25,
     "metadata": {},
     "output_type": "execute_result"
    }
   ],
   "source": [
    "list"
   ]
  },
  {
   "cell_type": "code",
   "execution_count": 42,
   "metadata": {},
   "outputs": [
    {
     "name": "stdout",
     "output_type": "stream",
     "text": [
      "5\n"
     ]
    }
   ],
   "source": [
    "# linear search\n",
    "\n",
    "# find 23 in below\n",
    "# find=23\n",
    "# list=[1,33,44,55,23,7,9,10, 100]\n",
    "\n",
    "# for i in range(len(list)):\n",
    "#     if list[i]==find:\n",
    "#         print (i)\n",
    "        \n",
    "# Binary search\n",
    "\n",
    "list=[1,7,9,5,14,23,44,55]\n",
    "\n",
    "start= 0\n",
    "end=len(list)\n",
    "for i in range(start, end):\n",
    "\n",
    "    k=(start+end)//2\n",
    "\n",
    "\n",
    "\n",
    "    if list[k]==find:\n",
    "        print(k)\n",
    "        break\n",
    "        \n",
    "    elif list[k]< find:\n",
    "        start=k\n",
    "    else:\n",
    "        end=k\n",
    "    \n",
    "    \n",
    "    \n"
   ]
  },
  {
   "cell_type": "code",
   "execution_count": 1,
   "metadata": {},
   "outputs": [
    {
     "name": "stdout",
     "output_type": "stream",
     "text": [
      "1\n",
      "2\n",
      "5 1\n",
      "2 1\n"
     ]
    }
   ],
   "source": [
    "for _ in range(int(input())):\n",
    "        n=int(input())\n",
    "        c=list(map(int ,input().split())) \n",
    "        l=list(map(int ,input().split())) "
   ]
  },
  {
   "cell_type": "code",
   "execution_count": null,
   "metadata": {},
   "outputs": [],
   "source": []
  }
 ],
 "metadata": {
  "kernelspec": {
   "display_name": "Python 3",
   "language": "python",
   "name": "python3"
  },
  "language_info": {
   "codemirror_mode": {
    "name": "ipython",
    "version": 3
   },
   "file_extension": ".py",
   "mimetype": "text/x-python",
   "name": "python",
   "nbconvert_exporter": "python",
   "pygments_lexer": "ipython3",
   "version": "3.7.3"
  }
 },
 "nbformat": 4,
 "nbformat_minor": 2
}
